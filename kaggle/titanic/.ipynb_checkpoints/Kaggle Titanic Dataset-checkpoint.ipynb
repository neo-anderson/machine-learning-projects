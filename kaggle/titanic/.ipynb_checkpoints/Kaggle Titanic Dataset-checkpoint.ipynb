{
 "cells": [
  {
   "cell_type": "code",
   "execution_count": 22,
   "metadata": {
    "collapsed": false
   },
   "outputs": [],
   "source": [
    "%matplotlib inline\n",
    "import csv as csv\n",
    "import numpy as np\n",
    "\n",
    "csv_file = csv.reader(open('train.csv','r'))\n",
    "header = next(csv_file) # Skip first line\n",
    "data = []\n",
    "for row in csv_file:\n",
    "    data.append(row)\n",
    "data = np.array(data)"
   ]
  },
  {
   "cell_type": "code",
   "execution_count": 23,
   "metadata": {
    "collapsed": false
   },
   "outputs": [
    {
     "data": {
      "text/plain": [
       "array([['1', '0', '3', ..., '7.25', '', 'S'],\n",
       "       ['2', '1', '1', ..., '71.2833', 'C85', 'C'],\n",
       "       ['3', '1', '3', ..., '7.925', '', 'S'],\n",
       "       ..., \n",
       "       ['889', '0', '3', ..., '23.45', '', 'S'],\n",
       "       ['890', '1', '1', ..., '30', 'C148', 'C'],\n",
       "       ['891', '0', '3', ..., '7.75', '', 'Q']], \n",
       "      dtype='<U82')"
      ]
     },
     "execution_count": 23,
     "metadata": {},
     "output_type": "execute_result"
    }
   ],
   "source": [
    "data"
   ]
  },
  {
   "cell_type": "code",
   "execution_count": 24,
   "metadata": {
    "collapsed": false
   },
   "outputs": [
    {
     "data": {
      "text/plain": [
       "array(['1', '0', '3', 'Braund, Mr. Owen Harris', 'male', '22', '1', '0',\n",
       "       'A/5 21171', '7.25', '', 'S'], \n",
       "      dtype='<U82')"
      ]
     },
     "execution_count": 24,
     "metadata": {},
     "output_type": "execute_result"
    }
   ],
   "source": [
    "data[0]"
   ]
  },
  {
   "cell_type": "code",
   "execution_count": 25,
   "metadata": {
    "collapsed": false
   },
   "outputs": [
    {
     "data": {
      "text/plain": [
       "array(['891', '0', '3', 'Dooley, Mr. Patrick', 'male', '32', '0', '0',\n",
       "       '370376', '7.75', '', 'Q'], \n",
       "      dtype='<U82')"
      ]
     },
     "execution_count": 25,
     "metadata": {},
     "output_type": "execute_result"
    }
   ],
   "source": [
    "data[-1]"
   ]
  },
  {
   "cell_type": "code",
   "execution_count": 26,
   "metadata": {
    "collapsed": false
   },
   "outputs": [],
   "source": [
    "#data[0:,4] == data[0::,4]\n",
    "#data[0:,4] == data[:,4]"
   ]
  },
  {
   "cell_type": "code",
   "execution_count": 27,
   "metadata": {
    "collapsed": false
   },
   "outputs": [
    {
     "data": {
      "text/plain": [
       "0.38383838383838381"
      ]
     },
     "execution_count": 27,
     "metadata": {},
     "output_type": "execute_result"
    }
   ],
   "source": [
    "n_passengers = np.size(data[:,1])\n",
    "n_survived = np.sum(data[:,1].astype(np.float))\n",
    "propn_survivors = n_survived / n_passengers\n",
    "propn_survivors"
   ]
  },
  {
   "cell_type": "code",
   "execution_count": 28,
   "metadata": {
    "collapsed": false
   },
   "outputs": [],
   "source": [
    "women = data[:,4] == 'female'\n",
    "men = data[:,4] == 'male'\n",
    "rows_women = data[women,1].astype(np.int)\n",
    "rows_men = data[men,1].astype(np.int)\n",
    "\n",
    "propn_women_survived = np.sum(rows_women) / np.size(rows_women)\n",
    "propn_men_survived = np.sum(rows_men) / np.size(rows_men)"
   ]
  },
  {
   "cell_type": "code",
   "execution_count": 29,
   "metadata": {
    "collapsed": false
   },
   "outputs": [
    {
     "name": "stdout",
     "output_type": "stream",
     "text": [
      "0.188908145581\n",
      "0.742038216561\n"
     ]
    }
   ],
   "source": [
    "print(propn_men_survived)\n",
    "print(propn_women_survived)"
   ]
  },
  {
   "cell_type": "code",
   "execution_count": 30,
   "metadata": {
    "collapsed": true
   },
   "outputs": [],
   "source": [
    "test_file = open('test.csv')\n",
    "test_file_reader = csv.reader(test_file)\n",
    "header = next(test_file_reader)\n",
    "\n",
    "predn_file = open('genderbasedmodel.csv','w', encoding='UTF-8')\n",
    "predn_file_writer = csv.writer(predn_file)"
   ]
  },
  {
   "cell_type": "code",
   "execution_count": 31,
   "metadata": {
    "collapsed": false
   },
   "outputs": [
    {
     "name": "stdout",
     "output_type": "stream",
     "text": [
      "['PassengerId', 'Pclass', 'Name', 'Sex', 'Age', 'SibSp', 'Parch', 'Ticket', 'Fare', 'Cabin', 'Embarked']\n"
     ]
    }
   ],
   "source": [
    "print(header)\n",
    "predn_file_writer.writerow(['PassengerId','Survived'])\n",
    "for row in test_file_reader:\n",
    "    if row[3] == 'female':\n",
    "        predn_file_writer.writerow([row[0],1])\n",
    "    else:\n",
    "        predn_file_writer.writerow([row[0],0])\n",
    "\n",
    "test_file.close()\n",
    "predn_file.close()"
   ]
  },
  {
   "cell_type": "markdown",
   "metadata": {},
   "source": [
    "Now, let's try some more complicated conditions\n",
    "https://www.kaggle.com/c/titanic/details/getting-started-with-python"
   ]
  },
  {
   "cell_type": "code",
   "execution_count": 32,
   "metadata": {
    "collapsed": false,
    "scrolled": true
   },
   "outputs": [
    {
     "name": "stdout",
     "output_type": "stream",
     "text": [
      "['7.25' '71.2833' '7.925' '53.1' '8.05' '8.4583' '51.8625' '21.075'\n",
      " '11.1333' '30.0708']\n",
      "(  (7.186, 23.258]\n",
      " (55.275, 71.283]\n",
      "  (7.186, 23.258]\n",
      " (39.267, 55.275]\n",
      "  (7.186, 23.258]\n",
      "  (7.186, 23.258]\n",
      " (39.267, 55.275]\n",
      "  (7.186, 23.258]\n",
      "  (7.186, 23.258]\n",
      " (23.258, 39.267]\n",
      "Levels (4): Index(['(7.186, 23.258]', '(23.258, 39.267]',\n",
      "                   '(39.267, 55.275]', '(55.275, 71.283]'], dtype=object), array([  7.1859667,  23.258325 ,  39.26665  ,  55.274975 ,  71.2833   ]))\n"
     ]
    }
   ],
   "source": [
    "# Gender, class and ticket price. bin up ticket price into four bins\n",
    "import pandas as pd\n",
    "print(data[:10,-3])\n",
    "print(pd.cut(data[:10,-3].astype(np.float),4,retbins=True))"
   ]
  },
  {
   "cell_type": "code",
   "execution_count": 33,
   "metadata": {
    "collapsed": false
   },
   "outputs": [],
   "source": [
    "#binning\n",
    "fare_ceiling = 40\n",
    "data[ data[:,-3].astype(np.float) >= fare_ceiling, -3 ] = fare_ceiling - 1.0\n",
    "fare_bracket_size = 10\n",
    "n_brackets = int(fare_ceiling/fare_bracket_size)\n",
    "#n_classes = 3\n",
    "n_classes = len(np.unique(data[:,2]))"
   ]
  },
  {
   "cell_type": "code",
   "execution_count": 34,
   "metadata": {
    "collapsed": false
   },
   "outputs": [],
   "source": [
    "survival_table = np.zeros([2,n_classes,n_brackets])"
   ]
  },
  {
   "cell_type": "code",
   "execution_count": 35,
   "metadata": {
    "collapsed": false
   },
   "outputs": [
    {
     "name": "stderr",
     "output_type": "stream",
     "text": [
      "/Users/aswinrajkumar/anaconda/lib/python3.4/site-packages/numpy/core/_methods.py:59: RuntimeWarning: Mean of empty slice.\n",
      "  warnings.warn(\"Mean of empty slice.\", RuntimeWarning)\n"
     ]
    }
   ],
   "source": [
    "for i in range(n_classes):\n",
    "    for j in range(n_brackets):\n",
    "        w_stats = data[\n",
    "            (data[:,4] == 'female')\n",
    "            & (data[:,2].astype(np.float) == i+1)\n",
    "            & (data[:,-3].astype(np.float) >= j*fare_bracket_size)\n",
    "            & (data[:,-3].astype(np.float) < (j+1)*fare_bracket_size)\n",
    "            ,1]\n",
    "        m_stats = data[\n",
    "            (data[:,4] == 'male')\n",
    "            & (data[:,2].astype(np.float) == i+1)\n",
    "            & (data[:,-3].astype(np.float) >= j*fare_bracket_size)\n",
    "            & (data[:,-3].astype(np.float) < (j+1)*fare_bracket_size)\n",
    "            ,1]\n",
    "        survival_table[0,i,j] = np.mean(w_stats.astype(np.float))\n",
    "        survival_table[1,i,j] = np.mean(m_stats.astype(np.float))"
   ]
  },
  {
   "cell_type": "code",
   "execution_count": 36,
   "metadata": {
    "collapsed": false
   },
   "outputs": [
    {
     "data": {
      "text/plain": [
       "array([[        nan,         nan,  0.83333333,  0.97727273],\n",
       "       [        nan,  0.91428571,  0.9       ,  1.        ],\n",
       "       [ 0.59375   ,  0.58139535,  0.33333333,  0.125     ]])"
      ]
     },
     "execution_count": 36,
     "metadata": {},
     "output_type": "execute_result"
    }
   ],
   "source": [
    "survival_table[0]"
   ]
  },
  {
   "cell_type": "code",
   "execution_count": 37,
   "metadata": {
    "collapsed": false
   },
   "outputs": [
    {
     "data": {
      "text/plain": [
       "array([[ 0.        ,  0.        ,  0.83333333,  0.97727273],\n",
       "       [ 0.        ,  0.91428571,  0.9       ,  1.        ],\n",
       "       [ 0.59375   ,  0.58139535,  0.33333333,  0.125     ]])"
      ]
     },
     "execution_count": 37,
     "metadata": {},
     "output_type": "execute_result"
    }
   ],
   "source": [
    "# Fix NaN values by the below method\n",
    "survival_table[ survival_table != survival_table ] = 0.\n",
    "survival_table[0]"
   ]
  },
  {
   "cell_type": "code",
   "execution_count": 38,
   "metadata": {
    "collapsed": false
   },
   "outputs": [
    {
     "data": {
      "text/plain": [
       "array([[[ 0.,  0.,  1.,  1.],\n",
       "        [ 0.,  1.,  1.,  1.],\n",
       "        [ 1.,  1.,  0.,  0.]],\n",
       "\n",
       "       [[ 0.,  0.,  0.,  0.],\n",
       "        [ 0.,  0.,  0.,  0.],\n",
       "        [ 0.,  0.,  0.,  0.]]])"
      ]
     },
     "execution_count": 38,
     "metadata": {},
     "output_type": "execute_result"
    }
   ],
   "source": [
    "# create a model with a cut-off probability of 0.5\n",
    "survival_table[survival_table >= 0.5] = 1   #survive\n",
    "survival_table[survival_table < 0.5] = 0    #will die\n",
    "survival_table"
   ]
  },
  {
   "cell_type": "code",
   "execution_count": 39,
   "metadata": {
    "collapsed": false
   },
   "outputs": [
    {
     "data": {
      "text/plain": [
       "22"
      ]
     },
     "execution_count": 39,
     "metadata": {},
     "output_type": "execute_result"
    }
   ],
   "source": [
    "test_file = open('test.csv')\n",
    "test_file_reader = csv.reader(test_file)\n",
    "header = next(test_file_reader)\n",
    "predn_file = open('genderclassmodel.csv','w')\n",
    "predn_file_writer = csv.writer(predn_file)\n",
    "predn_file_writer.writerow(['PassengerId','Survived'])"
   ]
  },
  {
   "cell_type": "code",
   "execution_count": 40,
   "metadata": {
    "collapsed": true
   },
   "outputs": [],
   "source": [
    "for row in test_file_reader:\n",
    "    for j in range(n_brackets):\n",
    "        try:\n",
    "            row[8] = float(row[8])\n",
    "        except:\n",
    "            bin_fare = 3 - float(row[1])\n",
    "            break\n",
    "        if row[8] > fare_ceiling:\n",
    "            bin_fare = n_brackets - 1\n",
    "            break\n",
    "        if row[8] >= j*fare_bracket_size and row[8] < (j+1)*fare_bracket_size:\n",
    "            bin_fare = j\n",
    "            break\n",
    "    if row[3] == 'female':\n",
    "        predn_file_writer.writerow([row[0],int(survival_table[0,float(row[1])-1,bin_fare])])\n",
    "    else:\n",
    "        predn_file_writer.writerow([row[0],int(survival_table[1,float(row[1])-1,bin_fare])])\n",
    "test_file.close()\n",
    "predn_file.close()"
   ]
  },
  {
   "cell_type": "markdown",
   "metadata": {},
   "source": [
    "###Using Pandas\n",
    "https://www.kaggle.com/c/titanic/details/getting-started-with-python-ii"
   ]
  },
  {
   "cell_type": "code",
   "execution_count": 41,
   "metadata": {
    "collapsed": false
   },
   "outputs": [
    {
     "data": {
      "text/plain": [
       "numpy.ndarray"
      ]
     },
     "execution_count": 41,
     "metadata": {},
     "output_type": "execute_result"
    }
   ],
   "source": [
    "type(data[:,5])"
   ]
  },
  {
   "cell_type": "code",
   "execution_count": 42,
   "metadata": {
    "collapsed": false
   },
   "outputs": [
    {
     "ename": "ValueError",
     "evalue": "could not convert string to float: ",
     "output_type": "error",
     "traceback": [
      "\u001b[0;31m---------------------------------------------------------------------------\u001b[0m",
      "\u001b[0;31mValueError\u001b[0m                                Traceback (most recent call last)",
      "\u001b[0;32m<ipython-input-42-8dfb2e9b9c68>\u001b[0m in \u001b[0;36m<module>\u001b[0;34m()\u001b[0m\n\u001b[0;32m----> 1\u001b[0;31m \u001b[0mdata\u001b[0m\u001b[0;34m[\u001b[0m\u001b[0;34m:\u001b[0m\u001b[0;34m,\u001b[0m\u001b[0;36m5\u001b[0m\u001b[0;34m]\u001b[0m\u001b[0;34m.\u001b[0m\u001b[0mastype\u001b[0m\u001b[0;34m(\u001b[0m\u001b[0mnp\u001b[0m\u001b[0;34m.\u001b[0m\u001b[0mfloat\u001b[0m\u001b[0;34m)\u001b[0m\u001b[0;34m\u001b[0m\u001b[0m\n\u001b[0m",
      "\u001b[0;31mValueError\u001b[0m: could not convert string to float: "
     ]
    }
   ],
   "source": [
    "data[:,5].astype(np.float)"
   ]
  },
  {
   "cell_type": "code",
   "execution_count": 43,
   "metadata": {
    "collapsed": false,
    "scrolled": true
   },
   "outputs": [
    {
     "data": {
      "text/html": [
       "<div style=\"max-height:1000px;max-width:1500px;overflow:auto;\">\n",
       "<table border=\"1\" class=\"dataframe\">\n",
       "  <thead>\n",
       "    <tr style=\"text-align: right;\">\n",
       "      <th></th>\n",
       "      <th>PassengerId</th>\n",
       "      <th>Survived</th>\n",
       "      <th>Pclass</th>\n",
       "      <th>Name</th>\n",
       "      <th>Sex</th>\n",
       "      <th>Age</th>\n",
       "      <th>SibSp</th>\n",
       "      <th>Parch</th>\n",
       "      <th>Ticket</th>\n",
       "      <th>Fare</th>\n",
       "      <th>Cabin</th>\n",
       "      <th>Embarked</th>\n",
       "    </tr>\n",
       "  </thead>\n",
       "  <tbody>\n",
       "    <tr>\n",
       "      <th>0  </th>\n",
       "      <td>   1</td>\n",
       "      <td> 0</td>\n",
       "      <td> 3</td>\n",
       "      <td>                           Braund, Mr. Owen Harris</td>\n",
       "      <td>   male</td>\n",
       "      <td> 22</td>\n",
       "      <td> 1</td>\n",
       "      <td> 0</td>\n",
       "      <td>        A/5 21171</td>\n",
       "      <td>   7.2500</td>\n",
       "      <td>         NaN</td>\n",
       "      <td> S</td>\n",
       "    </tr>\n",
       "    <tr>\n",
       "      <th>1  </th>\n",
       "      <td>   2</td>\n",
       "      <td> 1</td>\n",
       "      <td> 1</td>\n",
       "      <td> Cumings, Mrs. John Bradley (Florence Briggs Th...</td>\n",
       "      <td> female</td>\n",
       "      <td> 38</td>\n",
       "      <td> 1</td>\n",
       "      <td> 0</td>\n",
       "      <td>         PC 17599</td>\n",
       "      <td>  71.2833</td>\n",
       "      <td>         C85</td>\n",
       "      <td> C</td>\n",
       "    </tr>\n",
       "    <tr>\n",
       "      <th>2  </th>\n",
       "      <td>   3</td>\n",
       "      <td> 1</td>\n",
       "      <td> 3</td>\n",
       "      <td>                            Heikkinen, Miss. Laina</td>\n",
       "      <td> female</td>\n",
       "      <td> 26</td>\n",
       "      <td> 0</td>\n",
       "      <td> 0</td>\n",
       "      <td> STON/O2. 3101282</td>\n",
       "      <td>   7.9250</td>\n",
       "      <td>         NaN</td>\n",
       "      <td> S</td>\n",
       "    </tr>\n",
       "    <tr>\n",
       "      <th>3  </th>\n",
       "      <td>   4</td>\n",
       "      <td> 1</td>\n",
       "      <td> 1</td>\n",
       "      <td>      Futrelle, Mrs. Jacques Heath (Lily May Peel)</td>\n",
       "      <td> female</td>\n",
       "      <td> 35</td>\n",
       "      <td> 1</td>\n",
       "      <td> 0</td>\n",
       "      <td>           113803</td>\n",
       "      <td>  53.1000</td>\n",
       "      <td>        C123</td>\n",
       "      <td> S</td>\n",
       "    </tr>\n",
       "    <tr>\n",
       "      <th>4  </th>\n",
       "      <td>   5</td>\n",
       "      <td> 0</td>\n",
       "      <td> 3</td>\n",
       "      <td>                          Allen, Mr. William Henry</td>\n",
       "      <td>   male</td>\n",
       "      <td> 35</td>\n",
       "      <td> 0</td>\n",
       "      <td> 0</td>\n",
       "      <td>           373450</td>\n",
       "      <td>   8.0500</td>\n",
       "      <td>         NaN</td>\n",
       "      <td> S</td>\n",
       "    </tr>\n",
       "    <tr>\n",
       "      <th>5  </th>\n",
       "      <td>   6</td>\n",
       "      <td> 0</td>\n",
       "      <td> 3</td>\n",
       "      <td>                                  Moran, Mr. James</td>\n",
       "      <td>   male</td>\n",
       "      <td>NaN</td>\n",
       "      <td> 0</td>\n",
       "      <td> 0</td>\n",
       "      <td>           330877</td>\n",
       "      <td>   8.4583</td>\n",
       "      <td>         NaN</td>\n",
       "      <td> Q</td>\n",
       "    </tr>\n",
       "    <tr>\n",
       "      <th>6  </th>\n",
       "      <td>   7</td>\n",
       "      <td> 0</td>\n",
       "      <td> 1</td>\n",
       "      <td>                           McCarthy, Mr. Timothy J</td>\n",
       "      <td>   male</td>\n",
       "      <td> 54</td>\n",
       "      <td> 0</td>\n",
       "      <td> 0</td>\n",
       "      <td>            17463</td>\n",
       "      <td>  51.8625</td>\n",
       "      <td>         E46</td>\n",
       "      <td> S</td>\n",
       "    </tr>\n",
       "    <tr>\n",
       "      <th>7  </th>\n",
       "      <td>   8</td>\n",
       "      <td> 0</td>\n",
       "      <td> 3</td>\n",
       "      <td>                    Palsson, Master. Gosta Leonard</td>\n",
       "      <td>   male</td>\n",
       "      <td>  2</td>\n",
       "      <td> 3</td>\n",
       "      <td> 1</td>\n",
       "      <td>           349909</td>\n",
       "      <td>  21.0750</td>\n",
       "      <td>         NaN</td>\n",
       "      <td> S</td>\n",
       "    </tr>\n",
       "    <tr>\n",
       "      <th>8  </th>\n",
       "      <td>   9</td>\n",
       "      <td> 1</td>\n",
       "      <td> 3</td>\n",
       "      <td> Johnson, Mrs. Oscar W (Elisabeth Vilhelmina Berg)</td>\n",
       "      <td> female</td>\n",
       "      <td> 27</td>\n",
       "      <td> 0</td>\n",
       "      <td> 2</td>\n",
       "      <td>           347742</td>\n",
       "      <td>  11.1333</td>\n",
       "      <td>         NaN</td>\n",
       "      <td> S</td>\n",
       "    </tr>\n",
       "    <tr>\n",
       "      <th>9  </th>\n",
       "      <td>  10</td>\n",
       "      <td> 1</td>\n",
       "      <td> 2</td>\n",
       "      <td>               Nasser, Mrs. Nicholas (Adele Achem)</td>\n",
       "      <td> female</td>\n",
       "      <td> 14</td>\n",
       "      <td> 1</td>\n",
       "      <td> 0</td>\n",
       "      <td>           237736</td>\n",
       "      <td>  30.0708</td>\n",
       "      <td>         NaN</td>\n",
       "      <td> C</td>\n",
       "    </tr>\n",
       "    <tr>\n",
       "      <th>10 </th>\n",
       "      <td>  11</td>\n",
       "      <td> 1</td>\n",
       "      <td> 3</td>\n",
       "      <td>                   Sandstrom, Miss. Marguerite Rut</td>\n",
       "      <td> female</td>\n",
       "      <td>  4</td>\n",
       "      <td> 1</td>\n",
       "      <td> 1</td>\n",
       "      <td>          PP 9549</td>\n",
       "      <td>  16.7000</td>\n",
       "      <td>          G6</td>\n",
       "      <td> S</td>\n",
       "    </tr>\n",
       "    <tr>\n",
       "      <th>11 </th>\n",
       "      <td>  12</td>\n",
       "      <td> 1</td>\n",
       "      <td> 1</td>\n",
       "      <td>                          Bonnell, Miss. Elizabeth</td>\n",
       "      <td> female</td>\n",
       "      <td> 58</td>\n",
       "      <td> 0</td>\n",
       "      <td> 0</td>\n",
       "      <td>           113783</td>\n",
       "      <td>  26.5500</td>\n",
       "      <td>        C103</td>\n",
       "      <td> S</td>\n",
       "    </tr>\n",
       "    <tr>\n",
       "      <th>12 </th>\n",
       "      <td>  13</td>\n",
       "      <td> 0</td>\n",
       "      <td> 3</td>\n",
       "      <td>                    Saundercock, Mr. William Henry</td>\n",
       "      <td>   male</td>\n",
       "      <td> 20</td>\n",
       "      <td> 0</td>\n",
       "      <td> 0</td>\n",
       "      <td>        A/5. 2151</td>\n",
       "      <td>   8.0500</td>\n",
       "      <td>         NaN</td>\n",
       "      <td> S</td>\n",
       "    </tr>\n",
       "    <tr>\n",
       "      <th>13 </th>\n",
       "      <td>  14</td>\n",
       "      <td> 0</td>\n",
       "      <td> 3</td>\n",
       "      <td>                       Andersson, Mr. Anders Johan</td>\n",
       "      <td>   male</td>\n",
       "      <td> 39</td>\n",
       "      <td> 1</td>\n",
       "      <td> 5</td>\n",
       "      <td>           347082</td>\n",
       "      <td>  31.2750</td>\n",
       "      <td>         NaN</td>\n",
       "      <td> S</td>\n",
       "    </tr>\n",
       "    <tr>\n",
       "      <th>14 </th>\n",
       "      <td>  15</td>\n",
       "      <td> 0</td>\n",
       "      <td> 3</td>\n",
       "      <td>              Vestrom, Miss. Hulda Amanda Adolfina</td>\n",
       "      <td> female</td>\n",
       "      <td> 14</td>\n",
       "      <td> 0</td>\n",
       "      <td> 0</td>\n",
       "      <td>           350406</td>\n",
       "      <td>   7.8542</td>\n",
       "      <td>         NaN</td>\n",
       "      <td> S</td>\n",
       "    </tr>\n",
       "    <tr>\n",
       "      <th>15 </th>\n",
       "      <td>  16</td>\n",
       "      <td> 1</td>\n",
       "      <td> 2</td>\n",
       "      <td>                  Hewlett, Mrs. (Mary D Kingcome) </td>\n",
       "      <td> female</td>\n",
       "      <td> 55</td>\n",
       "      <td> 0</td>\n",
       "      <td> 0</td>\n",
       "      <td>           248706</td>\n",
       "      <td>  16.0000</td>\n",
       "      <td>         NaN</td>\n",
       "      <td> S</td>\n",
       "    </tr>\n",
       "    <tr>\n",
       "      <th>16 </th>\n",
       "      <td>  17</td>\n",
       "      <td> 0</td>\n",
       "      <td> 3</td>\n",
       "      <td>                              Rice, Master. Eugene</td>\n",
       "      <td>   male</td>\n",
       "      <td>  2</td>\n",
       "      <td> 4</td>\n",
       "      <td> 1</td>\n",
       "      <td>           382652</td>\n",
       "      <td>  29.1250</td>\n",
       "      <td>         NaN</td>\n",
       "      <td> Q</td>\n",
       "    </tr>\n",
       "    <tr>\n",
       "      <th>17 </th>\n",
       "      <td>  18</td>\n",
       "      <td> 1</td>\n",
       "      <td> 2</td>\n",
       "      <td>                      Williams, Mr. Charles Eugene</td>\n",
       "      <td>   male</td>\n",
       "      <td>NaN</td>\n",
       "      <td> 0</td>\n",
       "      <td> 0</td>\n",
       "      <td>           244373</td>\n",
       "      <td>  13.0000</td>\n",
       "      <td>         NaN</td>\n",
       "      <td> S</td>\n",
       "    </tr>\n",
       "    <tr>\n",
       "      <th>18 </th>\n",
       "      <td>  19</td>\n",
       "      <td> 0</td>\n",
       "      <td> 3</td>\n",
       "      <td> Vander Planke, Mrs. Julius (Emelia Maria Vande...</td>\n",
       "      <td> female</td>\n",
       "      <td> 31</td>\n",
       "      <td> 1</td>\n",
       "      <td> 0</td>\n",
       "      <td>           345763</td>\n",
       "      <td>  18.0000</td>\n",
       "      <td>         NaN</td>\n",
       "      <td> S</td>\n",
       "    </tr>\n",
       "    <tr>\n",
       "      <th>19 </th>\n",
       "      <td>  20</td>\n",
       "      <td> 1</td>\n",
       "      <td> 3</td>\n",
       "      <td>                           Masselmani, Mrs. Fatima</td>\n",
       "      <td> female</td>\n",
       "      <td>NaN</td>\n",
       "      <td> 0</td>\n",
       "      <td> 0</td>\n",
       "      <td>             2649</td>\n",
       "      <td>   7.2250</td>\n",
       "      <td>         NaN</td>\n",
       "      <td> C</td>\n",
       "    </tr>\n",
       "    <tr>\n",
       "      <th>20 </th>\n",
       "      <td>  21</td>\n",
       "      <td> 0</td>\n",
       "      <td> 2</td>\n",
       "      <td>                              Fynney, Mr. Joseph J</td>\n",
       "      <td>   male</td>\n",
       "      <td> 35</td>\n",
       "      <td> 0</td>\n",
       "      <td> 0</td>\n",
       "      <td>           239865</td>\n",
       "      <td>  26.0000</td>\n",
       "      <td>         NaN</td>\n",
       "      <td> S</td>\n",
       "    </tr>\n",
       "    <tr>\n",
       "      <th>21 </th>\n",
       "      <td>  22</td>\n",
       "      <td> 1</td>\n",
       "      <td> 2</td>\n",
       "      <td>                             Beesley, Mr. Lawrence</td>\n",
       "      <td>   male</td>\n",
       "      <td> 34</td>\n",
       "      <td> 0</td>\n",
       "      <td> 0</td>\n",
       "      <td>           248698</td>\n",
       "      <td>  13.0000</td>\n",
       "      <td>         D56</td>\n",
       "      <td> S</td>\n",
       "    </tr>\n",
       "    <tr>\n",
       "      <th>22 </th>\n",
       "      <td>  23</td>\n",
       "      <td> 1</td>\n",
       "      <td> 3</td>\n",
       "      <td>                       McGowan, Miss. Anna \"Annie\"</td>\n",
       "      <td> female</td>\n",
       "      <td> 15</td>\n",
       "      <td> 0</td>\n",
       "      <td> 0</td>\n",
       "      <td>           330923</td>\n",
       "      <td>   8.0292</td>\n",
       "      <td>         NaN</td>\n",
       "      <td> Q</td>\n",
       "    </tr>\n",
       "    <tr>\n",
       "      <th>23 </th>\n",
       "      <td>  24</td>\n",
       "      <td> 1</td>\n",
       "      <td> 1</td>\n",
       "      <td>                      Sloper, Mr. William Thompson</td>\n",
       "      <td>   male</td>\n",
       "      <td> 28</td>\n",
       "      <td> 0</td>\n",
       "      <td> 0</td>\n",
       "      <td>           113788</td>\n",
       "      <td>  35.5000</td>\n",
       "      <td>          A6</td>\n",
       "      <td> S</td>\n",
       "    </tr>\n",
       "    <tr>\n",
       "      <th>24 </th>\n",
       "      <td>  25</td>\n",
       "      <td> 0</td>\n",
       "      <td> 3</td>\n",
       "      <td>                     Palsson, Miss. Torborg Danira</td>\n",
       "      <td> female</td>\n",
       "      <td>  8</td>\n",
       "      <td> 3</td>\n",
       "      <td> 1</td>\n",
       "      <td>           349909</td>\n",
       "      <td>  21.0750</td>\n",
       "      <td>         NaN</td>\n",
       "      <td> S</td>\n",
       "    </tr>\n",
       "    <tr>\n",
       "      <th>25 </th>\n",
       "      <td>  26</td>\n",
       "      <td> 1</td>\n",
       "      <td> 3</td>\n",
       "      <td> Asplund, Mrs. Carl Oscar (Selma Augusta Emilia...</td>\n",
       "      <td> female</td>\n",
       "      <td> 38</td>\n",
       "      <td> 1</td>\n",
       "      <td> 5</td>\n",
       "      <td>           347077</td>\n",
       "      <td>  31.3875</td>\n",
       "      <td>         NaN</td>\n",
       "      <td> S</td>\n",
       "    </tr>\n",
       "    <tr>\n",
       "      <th>26 </th>\n",
       "      <td>  27</td>\n",
       "      <td> 0</td>\n",
       "      <td> 3</td>\n",
       "      <td>                           Emir, Mr. Farred Chehab</td>\n",
       "      <td>   male</td>\n",
       "      <td>NaN</td>\n",
       "      <td> 0</td>\n",
       "      <td> 0</td>\n",
       "      <td>             2631</td>\n",
       "      <td>   7.2250</td>\n",
       "      <td>         NaN</td>\n",
       "      <td> C</td>\n",
       "    </tr>\n",
       "    <tr>\n",
       "      <th>27 </th>\n",
       "      <td>  28</td>\n",
       "      <td> 0</td>\n",
       "      <td> 1</td>\n",
       "      <td>                    Fortune, Mr. Charles Alexander</td>\n",
       "      <td>   male</td>\n",
       "      <td> 19</td>\n",
       "      <td> 3</td>\n",
       "      <td> 2</td>\n",
       "      <td>            19950</td>\n",
       "      <td> 263.0000</td>\n",
       "      <td> C23 C25 C27</td>\n",
       "      <td> S</td>\n",
       "    </tr>\n",
       "    <tr>\n",
       "      <th>28 </th>\n",
       "      <td>  29</td>\n",
       "      <td> 1</td>\n",
       "      <td> 3</td>\n",
       "      <td>                     O'Dwyer, Miss. Ellen \"Nellie\"</td>\n",
       "      <td> female</td>\n",
       "      <td>NaN</td>\n",
       "      <td> 0</td>\n",
       "      <td> 0</td>\n",
       "      <td>           330959</td>\n",
       "      <td>   7.8792</td>\n",
       "      <td>         NaN</td>\n",
       "      <td> Q</td>\n",
       "    </tr>\n",
       "    <tr>\n",
       "      <th>29 </th>\n",
       "      <td>  30</td>\n",
       "      <td> 0</td>\n",
       "      <td> 3</td>\n",
       "      <td>                               Todoroff, Mr. Lalio</td>\n",
       "      <td>   male</td>\n",
       "      <td>NaN</td>\n",
       "      <td> 0</td>\n",
       "      <td> 0</td>\n",
       "      <td>           349216</td>\n",
       "      <td>   7.8958</td>\n",
       "      <td>         NaN</td>\n",
       "      <td> S</td>\n",
       "    </tr>\n",
       "    <tr>\n",
       "      <th>...</th>\n",
       "      <td>...</td>\n",
       "      <td>...</td>\n",
       "      <td>...</td>\n",
       "      <td>...</td>\n",
       "      <td>...</td>\n",
       "      <td>...</td>\n",
       "      <td>...</td>\n",
       "      <td>...</td>\n",
       "      <td>...</td>\n",
       "      <td>...</td>\n",
       "      <td>...</td>\n",
       "      <td>...</td>\n",
       "    </tr>\n",
       "    <tr>\n",
       "      <th>861</th>\n",
       "      <td> 862</td>\n",
       "      <td> 0</td>\n",
       "      <td> 2</td>\n",
       "      <td>                       Giles, Mr. Frederick Edward</td>\n",
       "      <td>   male</td>\n",
       "      <td> 21</td>\n",
       "      <td> 1</td>\n",
       "      <td> 0</td>\n",
       "      <td>            28134</td>\n",
       "      <td>  11.5000</td>\n",
       "      <td>         NaN</td>\n",
       "      <td> S</td>\n",
       "    </tr>\n",
       "    <tr>\n",
       "      <th>862</th>\n",
       "      <td> 863</td>\n",
       "      <td> 1</td>\n",
       "      <td> 1</td>\n",
       "      <td> Swift, Mrs. Frederick Joel (Margaret Welles Ba...</td>\n",
       "      <td> female</td>\n",
       "      <td> 48</td>\n",
       "      <td> 0</td>\n",
       "      <td> 0</td>\n",
       "      <td>            17466</td>\n",
       "      <td>  25.9292</td>\n",
       "      <td>         D17</td>\n",
       "      <td> S</td>\n",
       "    </tr>\n",
       "    <tr>\n",
       "      <th>863</th>\n",
       "      <td> 864</td>\n",
       "      <td> 0</td>\n",
       "      <td> 3</td>\n",
       "      <td>                 Sage, Miss. Dorothy Edith \"Dolly\"</td>\n",
       "      <td> female</td>\n",
       "      <td>NaN</td>\n",
       "      <td> 8</td>\n",
       "      <td> 2</td>\n",
       "      <td>         CA. 2343</td>\n",
       "      <td>  69.5500</td>\n",
       "      <td>         NaN</td>\n",
       "      <td> S</td>\n",
       "    </tr>\n",
       "    <tr>\n",
       "      <th>864</th>\n",
       "      <td> 865</td>\n",
       "      <td> 0</td>\n",
       "      <td> 2</td>\n",
       "      <td>                            Gill, Mr. John William</td>\n",
       "      <td>   male</td>\n",
       "      <td> 24</td>\n",
       "      <td> 0</td>\n",
       "      <td> 0</td>\n",
       "      <td>           233866</td>\n",
       "      <td>  13.0000</td>\n",
       "      <td>         NaN</td>\n",
       "      <td> S</td>\n",
       "    </tr>\n",
       "    <tr>\n",
       "      <th>865</th>\n",
       "      <td> 866</td>\n",
       "      <td> 1</td>\n",
       "      <td> 2</td>\n",
       "      <td>                          Bystrom, Mrs. (Karolina)</td>\n",
       "      <td> female</td>\n",
       "      <td> 42</td>\n",
       "      <td> 0</td>\n",
       "      <td> 0</td>\n",
       "      <td>           236852</td>\n",
       "      <td>  13.0000</td>\n",
       "      <td>         NaN</td>\n",
       "      <td> S</td>\n",
       "    </tr>\n",
       "    <tr>\n",
       "      <th>866</th>\n",
       "      <td> 867</td>\n",
       "      <td> 1</td>\n",
       "      <td> 2</td>\n",
       "      <td>                      Duran y More, Miss. Asuncion</td>\n",
       "      <td> female</td>\n",
       "      <td> 27</td>\n",
       "      <td> 1</td>\n",
       "      <td> 0</td>\n",
       "      <td>    SC/PARIS 2149</td>\n",
       "      <td>  13.8583</td>\n",
       "      <td>         NaN</td>\n",
       "      <td> C</td>\n",
       "    </tr>\n",
       "    <tr>\n",
       "      <th>867</th>\n",
       "      <td> 868</td>\n",
       "      <td> 0</td>\n",
       "      <td> 1</td>\n",
       "      <td>              Roebling, Mr. Washington Augustus II</td>\n",
       "      <td>   male</td>\n",
       "      <td> 31</td>\n",
       "      <td> 0</td>\n",
       "      <td> 0</td>\n",
       "      <td>         PC 17590</td>\n",
       "      <td>  50.4958</td>\n",
       "      <td>         A24</td>\n",
       "      <td> S</td>\n",
       "    </tr>\n",
       "    <tr>\n",
       "      <th>868</th>\n",
       "      <td> 869</td>\n",
       "      <td> 0</td>\n",
       "      <td> 3</td>\n",
       "      <td>                       van Melkebeke, Mr. Philemon</td>\n",
       "      <td>   male</td>\n",
       "      <td>NaN</td>\n",
       "      <td> 0</td>\n",
       "      <td> 0</td>\n",
       "      <td>           345777</td>\n",
       "      <td>   9.5000</td>\n",
       "      <td>         NaN</td>\n",
       "      <td> S</td>\n",
       "    </tr>\n",
       "    <tr>\n",
       "      <th>869</th>\n",
       "      <td> 870</td>\n",
       "      <td> 1</td>\n",
       "      <td> 3</td>\n",
       "      <td>                   Johnson, Master. Harold Theodor</td>\n",
       "      <td>   male</td>\n",
       "      <td>  4</td>\n",
       "      <td> 1</td>\n",
       "      <td> 1</td>\n",
       "      <td>           347742</td>\n",
       "      <td>  11.1333</td>\n",
       "      <td>         NaN</td>\n",
       "      <td> S</td>\n",
       "    </tr>\n",
       "    <tr>\n",
       "      <th>870</th>\n",
       "      <td> 871</td>\n",
       "      <td> 0</td>\n",
       "      <td> 3</td>\n",
       "      <td>                                 Balkic, Mr. Cerin</td>\n",
       "      <td>   male</td>\n",
       "      <td> 26</td>\n",
       "      <td> 0</td>\n",
       "      <td> 0</td>\n",
       "      <td>           349248</td>\n",
       "      <td>   7.8958</td>\n",
       "      <td>         NaN</td>\n",
       "      <td> S</td>\n",
       "    </tr>\n",
       "    <tr>\n",
       "      <th>871</th>\n",
       "      <td> 872</td>\n",
       "      <td> 1</td>\n",
       "      <td> 1</td>\n",
       "      <td>  Beckwith, Mrs. Richard Leonard (Sallie Monypeny)</td>\n",
       "      <td> female</td>\n",
       "      <td> 47</td>\n",
       "      <td> 1</td>\n",
       "      <td> 1</td>\n",
       "      <td>            11751</td>\n",
       "      <td>  52.5542</td>\n",
       "      <td>         D35</td>\n",
       "      <td> S</td>\n",
       "    </tr>\n",
       "    <tr>\n",
       "      <th>872</th>\n",
       "      <td> 873</td>\n",
       "      <td> 0</td>\n",
       "      <td> 1</td>\n",
       "      <td>                          Carlsson, Mr. Frans Olof</td>\n",
       "      <td>   male</td>\n",
       "      <td> 33</td>\n",
       "      <td> 0</td>\n",
       "      <td> 0</td>\n",
       "      <td>              695</td>\n",
       "      <td>   5.0000</td>\n",
       "      <td> B51 B53 B55</td>\n",
       "      <td> S</td>\n",
       "    </tr>\n",
       "    <tr>\n",
       "      <th>873</th>\n",
       "      <td> 874</td>\n",
       "      <td> 0</td>\n",
       "      <td> 3</td>\n",
       "      <td>                       Vander Cruyssen, Mr. Victor</td>\n",
       "      <td>   male</td>\n",
       "      <td> 47</td>\n",
       "      <td> 0</td>\n",
       "      <td> 0</td>\n",
       "      <td>           345765</td>\n",
       "      <td>   9.0000</td>\n",
       "      <td>         NaN</td>\n",
       "      <td> S</td>\n",
       "    </tr>\n",
       "    <tr>\n",
       "      <th>874</th>\n",
       "      <td> 875</td>\n",
       "      <td> 1</td>\n",
       "      <td> 2</td>\n",
       "      <td>             Abelson, Mrs. Samuel (Hannah Wizosky)</td>\n",
       "      <td> female</td>\n",
       "      <td> 28</td>\n",
       "      <td> 1</td>\n",
       "      <td> 0</td>\n",
       "      <td>        P/PP 3381</td>\n",
       "      <td>  24.0000</td>\n",
       "      <td>         NaN</td>\n",
       "      <td> C</td>\n",
       "    </tr>\n",
       "    <tr>\n",
       "      <th>875</th>\n",
       "      <td> 876</td>\n",
       "      <td> 1</td>\n",
       "      <td> 3</td>\n",
       "      <td>                  Najib, Miss. Adele Kiamie \"Jane\"</td>\n",
       "      <td> female</td>\n",
       "      <td> 15</td>\n",
       "      <td> 0</td>\n",
       "      <td> 0</td>\n",
       "      <td>             2667</td>\n",
       "      <td>   7.2250</td>\n",
       "      <td>         NaN</td>\n",
       "      <td> C</td>\n",
       "    </tr>\n",
       "    <tr>\n",
       "      <th>876</th>\n",
       "      <td> 877</td>\n",
       "      <td> 0</td>\n",
       "      <td> 3</td>\n",
       "      <td>                     Gustafsson, Mr. Alfred Ossian</td>\n",
       "      <td>   male</td>\n",
       "      <td> 20</td>\n",
       "      <td> 0</td>\n",
       "      <td> 0</td>\n",
       "      <td>             7534</td>\n",
       "      <td>   9.8458</td>\n",
       "      <td>         NaN</td>\n",
       "      <td> S</td>\n",
       "    </tr>\n",
       "    <tr>\n",
       "      <th>877</th>\n",
       "      <td> 878</td>\n",
       "      <td> 0</td>\n",
       "      <td> 3</td>\n",
       "      <td>                              Petroff, Mr. Nedelio</td>\n",
       "      <td>   male</td>\n",
       "      <td> 19</td>\n",
       "      <td> 0</td>\n",
       "      <td> 0</td>\n",
       "      <td>           349212</td>\n",
       "      <td>   7.8958</td>\n",
       "      <td>         NaN</td>\n",
       "      <td> S</td>\n",
       "    </tr>\n",
       "    <tr>\n",
       "      <th>878</th>\n",
       "      <td> 879</td>\n",
       "      <td> 0</td>\n",
       "      <td> 3</td>\n",
       "      <td>                                Laleff, Mr. Kristo</td>\n",
       "      <td>   male</td>\n",
       "      <td>NaN</td>\n",
       "      <td> 0</td>\n",
       "      <td> 0</td>\n",
       "      <td>           349217</td>\n",
       "      <td>   7.8958</td>\n",
       "      <td>         NaN</td>\n",
       "      <td> S</td>\n",
       "    </tr>\n",
       "    <tr>\n",
       "      <th>879</th>\n",
       "      <td> 880</td>\n",
       "      <td> 1</td>\n",
       "      <td> 1</td>\n",
       "      <td>     Potter, Mrs. Thomas Jr (Lily Alexenia Wilson)</td>\n",
       "      <td> female</td>\n",
       "      <td> 56</td>\n",
       "      <td> 0</td>\n",
       "      <td> 1</td>\n",
       "      <td>            11767</td>\n",
       "      <td>  83.1583</td>\n",
       "      <td>         C50</td>\n",
       "      <td> C</td>\n",
       "    </tr>\n",
       "    <tr>\n",
       "      <th>880</th>\n",
       "      <td> 881</td>\n",
       "      <td> 1</td>\n",
       "      <td> 2</td>\n",
       "      <td>      Shelley, Mrs. William (Imanita Parrish Hall)</td>\n",
       "      <td> female</td>\n",
       "      <td> 25</td>\n",
       "      <td> 0</td>\n",
       "      <td> 1</td>\n",
       "      <td>           230433</td>\n",
       "      <td>  26.0000</td>\n",
       "      <td>         NaN</td>\n",
       "      <td> S</td>\n",
       "    </tr>\n",
       "    <tr>\n",
       "      <th>881</th>\n",
       "      <td> 882</td>\n",
       "      <td> 0</td>\n",
       "      <td> 3</td>\n",
       "      <td>                                Markun, Mr. Johann</td>\n",
       "      <td>   male</td>\n",
       "      <td> 33</td>\n",
       "      <td> 0</td>\n",
       "      <td> 0</td>\n",
       "      <td>           349257</td>\n",
       "      <td>   7.8958</td>\n",
       "      <td>         NaN</td>\n",
       "      <td> S</td>\n",
       "    </tr>\n",
       "    <tr>\n",
       "      <th>882</th>\n",
       "      <td> 883</td>\n",
       "      <td> 0</td>\n",
       "      <td> 3</td>\n",
       "      <td>                      Dahlberg, Miss. Gerda Ulrika</td>\n",
       "      <td> female</td>\n",
       "      <td> 22</td>\n",
       "      <td> 0</td>\n",
       "      <td> 0</td>\n",
       "      <td>             7552</td>\n",
       "      <td>  10.5167</td>\n",
       "      <td>         NaN</td>\n",
       "      <td> S</td>\n",
       "    </tr>\n",
       "    <tr>\n",
       "      <th>883</th>\n",
       "      <td> 884</td>\n",
       "      <td> 0</td>\n",
       "      <td> 2</td>\n",
       "      <td>                     Banfield, Mr. Frederick James</td>\n",
       "      <td>   male</td>\n",
       "      <td> 28</td>\n",
       "      <td> 0</td>\n",
       "      <td> 0</td>\n",
       "      <td> C.A./SOTON 34068</td>\n",
       "      <td>  10.5000</td>\n",
       "      <td>         NaN</td>\n",
       "      <td> S</td>\n",
       "    </tr>\n",
       "    <tr>\n",
       "      <th>884</th>\n",
       "      <td> 885</td>\n",
       "      <td> 0</td>\n",
       "      <td> 3</td>\n",
       "      <td>                            Sutehall, Mr. Henry Jr</td>\n",
       "      <td>   male</td>\n",
       "      <td> 25</td>\n",
       "      <td> 0</td>\n",
       "      <td> 0</td>\n",
       "      <td>  SOTON/OQ 392076</td>\n",
       "      <td>   7.0500</td>\n",
       "      <td>         NaN</td>\n",
       "      <td> S</td>\n",
       "    </tr>\n",
       "    <tr>\n",
       "      <th>885</th>\n",
       "      <td> 886</td>\n",
       "      <td> 0</td>\n",
       "      <td> 3</td>\n",
       "      <td>              Rice, Mrs. William (Margaret Norton)</td>\n",
       "      <td> female</td>\n",
       "      <td> 39</td>\n",
       "      <td> 0</td>\n",
       "      <td> 5</td>\n",
       "      <td>           382652</td>\n",
       "      <td>  29.1250</td>\n",
       "      <td>         NaN</td>\n",
       "      <td> Q</td>\n",
       "    </tr>\n",
       "    <tr>\n",
       "      <th>886</th>\n",
       "      <td> 887</td>\n",
       "      <td> 0</td>\n",
       "      <td> 2</td>\n",
       "      <td>                             Montvila, Rev. Juozas</td>\n",
       "      <td>   male</td>\n",
       "      <td> 27</td>\n",
       "      <td> 0</td>\n",
       "      <td> 0</td>\n",
       "      <td>           211536</td>\n",
       "      <td>  13.0000</td>\n",
       "      <td>         NaN</td>\n",
       "      <td> S</td>\n",
       "    </tr>\n",
       "    <tr>\n",
       "      <th>887</th>\n",
       "      <td> 888</td>\n",
       "      <td> 1</td>\n",
       "      <td> 1</td>\n",
       "      <td>                      Graham, Miss. Margaret Edith</td>\n",
       "      <td> female</td>\n",
       "      <td> 19</td>\n",
       "      <td> 0</td>\n",
       "      <td> 0</td>\n",
       "      <td>           112053</td>\n",
       "      <td>  30.0000</td>\n",
       "      <td>         B42</td>\n",
       "      <td> S</td>\n",
       "    </tr>\n",
       "    <tr>\n",
       "      <th>888</th>\n",
       "      <td> 889</td>\n",
       "      <td> 0</td>\n",
       "      <td> 3</td>\n",
       "      <td>          Johnston, Miss. Catherine Helen \"Carrie\"</td>\n",
       "      <td> female</td>\n",
       "      <td>NaN</td>\n",
       "      <td> 1</td>\n",
       "      <td> 2</td>\n",
       "      <td>       W./C. 6607</td>\n",
       "      <td>  23.4500</td>\n",
       "      <td>         NaN</td>\n",
       "      <td> S</td>\n",
       "    </tr>\n",
       "    <tr>\n",
       "      <th>889</th>\n",
       "      <td> 890</td>\n",
       "      <td> 1</td>\n",
       "      <td> 1</td>\n",
       "      <td>                             Behr, Mr. Karl Howell</td>\n",
       "      <td>   male</td>\n",
       "      <td> 26</td>\n",
       "      <td> 0</td>\n",
       "      <td> 0</td>\n",
       "      <td>           111369</td>\n",
       "      <td>  30.0000</td>\n",
       "      <td>        C148</td>\n",
       "      <td> C</td>\n",
       "    </tr>\n",
       "    <tr>\n",
       "      <th>890</th>\n",
       "      <td> 891</td>\n",
       "      <td> 0</td>\n",
       "      <td> 3</td>\n",
       "      <td>                               Dooley, Mr. Patrick</td>\n",
       "      <td>   male</td>\n",
       "      <td> 32</td>\n",
       "      <td> 0</td>\n",
       "      <td> 0</td>\n",
       "      <td>           370376</td>\n",
       "      <td>   7.7500</td>\n",
       "      <td>         NaN</td>\n",
       "      <td> Q</td>\n",
       "    </tr>\n",
       "  </tbody>\n",
       "</table>\n",
       "<p>891 rows × 12 columns</p>\n",
       "</div>"
      ],
      "text/plain": [
       "     PassengerId  Survived  Pclass  \\\n",
       "0              1         0       3   \n",
       "1              2         1       1   \n",
       "2              3         1       3   \n",
       "3              4         1       1   \n",
       "4              5         0       3   \n",
       "5              6         0       3   \n",
       "6              7         0       1   \n",
       "7              8         0       3   \n",
       "8              9         1       3   \n",
       "9             10         1       2   \n",
       "10            11         1       3   \n",
       "11            12         1       1   \n",
       "12            13         0       3   \n",
       "13            14         0       3   \n",
       "14            15         0       3   \n",
       "15            16         1       2   \n",
       "16            17         0       3   \n",
       "17            18         1       2   \n",
       "18            19         0       3   \n",
       "19            20         1       3   \n",
       "20            21         0       2   \n",
       "21            22         1       2   \n",
       "22            23         1       3   \n",
       "23            24         1       1   \n",
       "24            25         0       3   \n",
       "25            26         1       3   \n",
       "26            27         0       3   \n",
       "27            28         0       1   \n",
       "28            29         1       3   \n",
       "29            30         0       3   \n",
       "..           ...       ...     ...   \n",
       "861          862         0       2   \n",
       "862          863         1       1   \n",
       "863          864         0       3   \n",
       "864          865         0       2   \n",
       "865          866         1       2   \n",
       "866          867         1       2   \n",
       "867          868         0       1   \n",
       "868          869         0       3   \n",
       "869          870         1       3   \n",
       "870          871         0       3   \n",
       "871          872         1       1   \n",
       "872          873         0       1   \n",
       "873          874         0       3   \n",
       "874          875         1       2   \n",
       "875          876         1       3   \n",
       "876          877         0       3   \n",
       "877          878         0       3   \n",
       "878          879         0       3   \n",
       "879          880         1       1   \n",
       "880          881         1       2   \n",
       "881          882         0       3   \n",
       "882          883         0       3   \n",
       "883          884         0       2   \n",
       "884          885         0       3   \n",
       "885          886         0       3   \n",
       "886          887         0       2   \n",
       "887          888         1       1   \n",
       "888          889         0       3   \n",
       "889          890         1       1   \n",
       "890          891         0       3   \n",
       "\n",
       "                                                  Name     Sex  Age  SibSp  \\\n",
       "0                              Braund, Mr. Owen Harris    male   22      1   \n",
       "1    Cumings, Mrs. John Bradley (Florence Briggs Th...  female   38      1   \n",
       "2                               Heikkinen, Miss. Laina  female   26      0   \n",
       "3         Futrelle, Mrs. Jacques Heath (Lily May Peel)  female   35      1   \n",
       "4                             Allen, Mr. William Henry    male   35      0   \n",
       "5                                     Moran, Mr. James    male  NaN      0   \n",
       "6                              McCarthy, Mr. Timothy J    male   54      0   \n",
       "7                       Palsson, Master. Gosta Leonard    male    2      3   \n",
       "8    Johnson, Mrs. Oscar W (Elisabeth Vilhelmina Berg)  female   27      0   \n",
       "9                  Nasser, Mrs. Nicholas (Adele Achem)  female   14      1   \n",
       "10                     Sandstrom, Miss. Marguerite Rut  female    4      1   \n",
       "11                            Bonnell, Miss. Elizabeth  female   58      0   \n",
       "12                      Saundercock, Mr. William Henry    male   20      0   \n",
       "13                         Andersson, Mr. Anders Johan    male   39      1   \n",
       "14                Vestrom, Miss. Hulda Amanda Adolfina  female   14      0   \n",
       "15                    Hewlett, Mrs. (Mary D Kingcome)   female   55      0   \n",
       "16                                Rice, Master. Eugene    male    2      4   \n",
       "17                        Williams, Mr. Charles Eugene    male  NaN      0   \n",
       "18   Vander Planke, Mrs. Julius (Emelia Maria Vande...  female   31      1   \n",
       "19                             Masselmani, Mrs. Fatima  female  NaN      0   \n",
       "20                                Fynney, Mr. Joseph J    male   35      0   \n",
       "21                               Beesley, Mr. Lawrence    male   34      0   \n",
       "22                         McGowan, Miss. Anna \"Annie\"  female   15      0   \n",
       "23                        Sloper, Mr. William Thompson    male   28      0   \n",
       "24                       Palsson, Miss. Torborg Danira  female    8      3   \n",
       "25   Asplund, Mrs. Carl Oscar (Selma Augusta Emilia...  female   38      1   \n",
       "26                             Emir, Mr. Farred Chehab    male  NaN      0   \n",
       "27                      Fortune, Mr. Charles Alexander    male   19      3   \n",
       "28                       O'Dwyer, Miss. Ellen \"Nellie\"  female  NaN      0   \n",
       "29                                 Todoroff, Mr. Lalio    male  NaN      0   \n",
       "..                                                 ...     ...  ...    ...   \n",
       "861                        Giles, Mr. Frederick Edward    male   21      1   \n",
       "862  Swift, Mrs. Frederick Joel (Margaret Welles Ba...  female   48      0   \n",
       "863                  Sage, Miss. Dorothy Edith \"Dolly\"  female  NaN      8   \n",
       "864                             Gill, Mr. John William    male   24      0   \n",
       "865                           Bystrom, Mrs. (Karolina)  female   42      0   \n",
       "866                       Duran y More, Miss. Asuncion  female   27      1   \n",
       "867               Roebling, Mr. Washington Augustus II    male   31      0   \n",
       "868                        van Melkebeke, Mr. Philemon    male  NaN      0   \n",
       "869                    Johnson, Master. Harold Theodor    male    4      1   \n",
       "870                                  Balkic, Mr. Cerin    male   26      0   \n",
       "871   Beckwith, Mrs. Richard Leonard (Sallie Monypeny)  female   47      1   \n",
       "872                           Carlsson, Mr. Frans Olof    male   33      0   \n",
       "873                        Vander Cruyssen, Mr. Victor    male   47      0   \n",
       "874              Abelson, Mrs. Samuel (Hannah Wizosky)  female   28      1   \n",
       "875                   Najib, Miss. Adele Kiamie \"Jane\"  female   15      0   \n",
       "876                      Gustafsson, Mr. Alfred Ossian    male   20      0   \n",
       "877                               Petroff, Mr. Nedelio    male   19      0   \n",
       "878                                 Laleff, Mr. Kristo    male  NaN      0   \n",
       "879      Potter, Mrs. Thomas Jr (Lily Alexenia Wilson)  female   56      0   \n",
       "880       Shelley, Mrs. William (Imanita Parrish Hall)  female   25      0   \n",
       "881                                 Markun, Mr. Johann    male   33      0   \n",
       "882                       Dahlberg, Miss. Gerda Ulrika  female   22      0   \n",
       "883                      Banfield, Mr. Frederick James    male   28      0   \n",
       "884                             Sutehall, Mr. Henry Jr    male   25      0   \n",
       "885               Rice, Mrs. William (Margaret Norton)  female   39      0   \n",
       "886                              Montvila, Rev. Juozas    male   27      0   \n",
       "887                       Graham, Miss. Margaret Edith  female   19      0   \n",
       "888           Johnston, Miss. Catherine Helen \"Carrie\"  female  NaN      1   \n",
       "889                              Behr, Mr. Karl Howell    male   26      0   \n",
       "890                                Dooley, Mr. Patrick    male   32      0   \n",
       "\n",
       "     Parch            Ticket      Fare        Cabin Embarked  \n",
       "0        0         A/5 21171    7.2500          NaN        S  \n",
       "1        0          PC 17599   71.2833          C85        C  \n",
       "2        0  STON/O2. 3101282    7.9250          NaN        S  \n",
       "3        0            113803   53.1000         C123        S  \n",
       "4        0            373450    8.0500          NaN        S  \n",
       "5        0            330877    8.4583          NaN        Q  \n",
       "6        0             17463   51.8625          E46        S  \n",
       "7        1            349909   21.0750          NaN        S  \n",
       "8        2            347742   11.1333          NaN        S  \n",
       "9        0            237736   30.0708          NaN        C  \n",
       "10       1           PP 9549   16.7000           G6        S  \n",
       "11       0            113783   26.5500         C103        S  \n",
       "12       0         A/5. 2151    8.0500          NaN        S  \n",
       "13       5            347082   31.2750          NaN        S  \n",
       "14       0            350406    7.8542          NaN        S  \n",
       "15       0            248706   16.0000          NaN        S  \n",
       "16       1            382652   29.1250          NaN        Q  \n",
       "17       0            244373   13.0000          NaN        S  \n",
       "18       0            345763   18.0000          NaN        S  \n",
       "19       0              2649    7.2250          NaN        C  \n",
       "20       0            239865   26.0000          NaN        S  \n",
       "21       0            248698   13.0000          D56        S  \n",
       "22       0            330923    8.0292          NaN        Q  \n",
       "23       0            113788   35.5000           A6        S  \n",
       "24       1            349909   21.0750          NaN        S  \n",
       "25       5            347077   31.3875          NaN        S  \n",
       "26       0              2631    7.2250          NaN        C  \n",
       "27       2             19950  263.0000  C23 C25 C27        S  \n",
       "28       0            330959    7.8792          NaN        Q  \n",
       "29       0            349216    7.8958          NaN        S  \n",
       "..     ...               ...       ...          ...      ...  \n",
       "861      0             28134   11.5000          NaN        S  \n",
       "862      0             17466   25.9292          D17        S  \n",
       "863      2          CA. 2343   69.5500          NaN        S  \n",
       "864      0            233866   13.0000          NaN        S  \n",
       "865      0            236852   13.0000          NaN        S  \n",
       "866      0     SC/PARIS 2149   13.8583          NaN        C  \n",
       "867      0          PC 17590   50.4958          A24        S  \n",
       "868      0            345777    9.5000          NaN        S  \n",
       "869      1            347742   11.1333          NaN        S  \n",
       "870      0            349248    7.8958          NaN        S  \n",
       "871      1             11751   52.5542          D35        S  \n",
       "872      0               695    5.0000  B51 B53 B55        S  \n",
       "873      0            345765    9.0000          NaN        S  \n",
       "874      0         P/PP 3381   24.0000          NaN        C  \n",
       "875      0              2667    7.2250          NaN        C  \n",
       "876      0              7534    9.8458          NaN        S  \n",
       "877      0            349212    7.8958          NaN        S  \n",
       "878      0            349217    7.8958          NaN        S  \n",
       "879      1             11767   83.1583          C50        C  \n",
       "880      1            230433   26.0000          NaN        S  \n",
       "881      0            349257    7.8958          NaN        S  \n",
       "882      0              7552   10.5167          NaN        S  \n",
       "883      0  C.A./SOTON 34068   10.5000          NaN        S  \n",
       "884      0   SOTON/OQ 392076    7.0500          NaN        S  \n",
       "885      5            382652   29.1250          NaN        Q  \n",
       "886      0            211536   13.0000          NaN        S  \n",
       "887      0            112053   30.0000          B42        S  \n",
       "888      2        W./C. 6607   23.4500          NaN        S  \n",
       "889      0            111369   30.0000         C148        C  \n",
       "890      0            370376    7.7500          NaN        Q  \n",
       "\n",
       "[891 rows x 12 columns]"
      ]
     },
     "execution_count": 43,
     "metadata": {},
     "output_type": "execute_result"
    }
   ],
   "source": [
    "# Error above cos of missing values. Easier with pandas\n",
    "df = pd.read_csv('train.csv',header=0)\n",
    "df"
   ]
  },
  {
   "cell_type": "code",
   "execution_count": 44,
   "metadata": {
    "collapsed": false
   },
   "outputs": [
    {
     "data": {
      "text/html": [
       "<div style=\"max-height:1000px;max-width:1500px;overflow:auto;\">\n",
       "<table border=\"1\" class=\"dataframe\">\n",
       "  <thead>\n",
       "    <tr style=\"text-align: right;\">\n",
       "      <th></th>\n",
       "      <th>PassengerId</th>\n",
       "      <th>Survived</th>\n",
       "      <th>Pclass</th>\n",
       "      <th>Name</th>\n",
       "      <th>Sex</th>\n",
       "      <th>Age</th>\n",
       "      <th>SibSp</th>\n",
       "      <th>Parch</th>\n",
       "      <th>Ticket</th>\n",
       "      <th>Fare</th>\n",
       "      <th>Cabin</th>\n",
       "      <th>Embarked</th>\n",
       "    </tr>\n",
       "  </thead>\n",
       "  <tbody>\n",
       "    <tr>\n",
       "      <th>0</th>\n",
       "      <td> 1</td>\n",
       "      <td> 0</td>\n",
       "      <td> 3</td>\n",
       "      <td>                           Braund, Mr. Owen Harris</td>\n",
       "      <td>   male</td>\n",
       "      <td> 22</td>\n",
       "      <td> 1</td>\n",
       "      <td> 0</td>\n",
       "      <td>        A/5 21171</td>\n",
       "      <td>  7.2500</td>\n",
       "      <td> NaN</td>\n",
       "      <td> S</td>\n",
       "    </tr>\n",
       "    <tr>\n",
       "      <th>1</th>\n",
       "      <td> 2</td>\n",
       "      <td> 1</td>\n",
       "      <td> 1</td>\n",
       "      <td> Cumings, Mrs. John Bradley (Florence Briggs Th...</td>\n",
       "      <td> female</td>\n",
       "      <td> 38</td>\n",
       "      <td> 1</td>\n",
       "      <td> 0</td>\n",
       "      <td>         PC 17599</td>\n",
       "      <td> 71.2833</td>\n",
       "      <td> C85</td>\n",
       "      <td> C</td>\n",
       "    </tr>\n",
       "    <tr>\n",
       "      <th>2</th>\n",
       "      <td> 3</td>\n",
       "      <td> 1</td>\n",
       "      <td> 3</td>\n",
       "      <td>                            Heikkinen, Miss. Laina</td>\n",
       "      <td> female</td>\n",
       "      <td> 26</td>\n",
       "      <td> 0</td>\n",
       "      <td> 0</td>\n",
       "      <td> STON/O2. 3101282</td>\n",
       "      <td>  7.9250</td>\n",
       "      <td> NaN</td>\n",
       "      <td> S</td>\n",
       "    </tr>\n",
       "  </tbody>\n",
       "</table>\n",
       "</div>"
      ],
      "text/plain": [
       "   PassengerId  Survived  Pclass  \\\n",
       "0            1         0       3   \n",
       "1            2         1       1   \n",
       "2            3         1       3   \n",
       "\n",
       "                                                Name     Sex  Age  SibSp  \\\n",
       "0                            Braund, Mr. Owen Harris    male   22      1   \n",
       "1  Cumings, Mrs. John Bradley (Florence Briggs Th...  female   38      1   \n",
       "2                             Heikkinen, Miss. Laina  female   26      0   \n",
       "\n",
       "   Parch            Ticket     Fare Cabin Embarked  \n",
       "0      0         A/5 21171   7.2500   NaN        S  \n",
       "1      0          PC 17599  71.2833   C85        C  \n",
       "2      0  STON/O2. 3101282   7.9250   NaN        S  "
      ]
     },
     "execution_count": 44,
     "metadata": {},
     "output_type": "execute_result"
    }
   ],
   "source": [
    "df.head(3)"
   ]
  },
  {
   "cell_type": "code",
   "execution_count": 45,
   "metadata": {
    "collapsed": false
   },
   "outputs": [
    {
     "data": {
      "text/plain": [
       "pandas.core.frame.DataFrame"
      ]
     },
     "execution_count": 45,
     "metadata": {},
     "output_type": "execute_result"
    }
   ],
   "source": [
    "type(df)"
   ]
  },
  {
   "cell_type": "code",
   "execution_count": 46,
   "metadata": {
    "collapsed": false
   },
   "outputs": [
    {
     "data": {
      "text/plain": [
       "PassengerId      int64\n",
       "Survived         int64\n",
       "Pclass           int64\n",
       "Name            object\n",
       "Sex             object\n",
       "Age            float64\n",
       "SibSp            int64\n",
       "Parch            int64\n",
       "Ticket          object\n",
       "Fare           float64\n",
       "Cabin           object\n",
       "Embarked        object\n",
       "dtype: object"
      ]
     },
     "execution_count": 46,
     "metadata": {},
     "output_type": "execute_result"
    }
   ],
   "source": [
    "df.dtypes"
   ]
  },
  {
   "cell_type": "code",
   "execution_count": 47,
   "metadata": {
    "collapsed": false
   },
   "outputs": [
    {
     "name": "stdout",
     "output_type": "stream",
     "text": [
      "<class 'pandas.core.frame.DataFrame'>\n",
      "Int64Index: 891 entries, 0 to 890\n",
      "Data columns (total 12 columns):\n",
      "PassengerId    891 non-null int64\n",
      "Survived       891 non-null int64\n",
      "Pclass         891 non-null int64\n",
      "Name           891 non-null object\n",
      "Sex            891 non-null object\n",
      "Age            714 non-null float64\n",
      "SibSp          891 non-null int64\n",
      "Parch          891 non-null int64\n",
      "Ticket         891 non-null object\n",
      "Fare           891 non-null float64\n",
      "Cabin          204 non-null object\n",
      "Embarked       889 non-null object\n",
      "dtypes: float64(2), int64(5), object(5)"
     ]
    }
   ],
   "source": [
    "df.info()"
   ]
  },
  {
   "cell_type": "code",
   "execution_count": 48,
   "metadata": {
    "collapsed": false
   },
   "outputs": [
    {
     "data": {
      "text/html": [
       "<div style=\"max-height:1000px;max-width:1500px;overflow:auto;\">\n",
       "<table border=\"1\" class=\"dataframe\">\n",
       "  <thead>\n",
       "    <tr style=\"text-align: right;\">\n",
       "      <th></th>\n",
       "      <th>PassengerId</th>\n",
       "      <th>Survived</th>\n",
       "      <th>Pclass</th>\n",
       "      <th>Age</th>\n",
       "      <th>SibSp</th>\n",
       "      <th>Parch</th>\n",
       "      <th>Fare</th>\n",
       "    </tr>\n",
       "  </thead>\n",
       "  <tbody>\n",
       "    <tr>\n",
       "      <th>count</th>\n",
       "      <td> 891.000000</td>\n",
       "      <td> 891.000000</td>\n",
       "      <td> 891.000000</td>\n",
       "      <td> 714.000000</td>\n",
       "      <td> 891.000000</td>\n",
       "      <td> 891.000000</td>\n",
       "      <td> 891.000000</td>\n",
       "    </tr>\n",
       "    <tr>\n",
       "      <th>mean</th>\n",
       "      <td> 446.000000</td>\n",
       "      <td>   0.383838</td>\n",
       "      <td>   2.308642</td>\n",
       "      <td>  29.699118</td>\n",
       "      <td>   0.523008</td>\n",
       "      <td>   0.381594</td>\n",
       "      <td>  32.204208</td>\n",
       "    </tr>\n",
       "    <tr>\n",
       "      <th>std</th>\n",
       "      <td> 257.353842</td>\n",
       "      <td>   0.486592</td>\n",
       "      <td>   0.836071</td>\n",
       "      <td>  14.526497</td>\n",
       "      <td>   1.102743</td>\n",
       "      <td>   0.806057</td>\n",
       "      <td>  49.693429</td>\n",
       "    </tr>\n",
       "    <tr>\n",
       "      <th>min</th>\n",
       "      <td>   1.000000</td>\n",
       "      <td>   0.000000</td>\n",
       "      <td>   1.000000</td>\n",
       "      <td>   0.420000</td>\n",
       "      <td>   0.000000</td>\n",
       "      <td>   0.000000</td>\n",
       "      <td>   0.000000</td>\n",
       "    </tr>\n",
       "    <tr>\n",
       "      <th>25%</th>\n",
       "      <td> 223.500000</td>\n",
       "      <td>   0.000000</td>\n",
       "      <td>   2.000000</td>\n",
       "      <td>  20.125000</td>\n",
       "      <td>   0.000000</td>\n",
       "      <td>   0.000000</td>\n",
       "      <td>   7.910400</td>\n",
       "    </tr>\n",
       "    <tr>\n",
       "      <th>50%</th>\n",
       "      <td> 446.000000</td>\n",
       "      <td>   0.000000</td>\n",
       "      <td>   3.000000</td>\n",
       "      <td>  28.000000</td>\n",
       "      <td>   0.000000</td>\n",
       "      <td>   0.000000</td>\n",
       "      <td>  14.454200</td>\n",
       "    </tr>\n",
       "    <tr>\n",
       "      <th>75%</th>\n",
       "      <td> 668.500000</td>\n",
       "      <td>   1.000000</td>\n",
       "      <td>   3.000000</td>\n",
       "      <td>  38.000000</td>\n",
       "      <td>   1.000000</td>\n",
       "      <td>   0.000000</td>\n",
       "      <td>  31.000000</td>\n",
       "    </tr>\n",
       "    <tr>\n",
       "      <th>max</th>\n",
       "      <td> 891.000000</td>\n",
       "      <td>   1.000000</td>\n",
       "      <td>   3.000000</td>\n",
       "      <td>  80.000000</td>\n",
       "      <td>   8.000000</td>\n",
       "      <td>   6.000000</td>\n",
       "      <td> 512.329200</td>\n",
       "    </tr>\n",
       "  </tbody>\n",
       "</table>\n",
       "</div>"
      ],
      "text/plain": [
       "       PassengerId    Survived      Pclass         Age       SibSp  \\\n",
       "count   891.000000  891.000000  891.000000  714.000000  891.000000   \n",
       "mean    446.000000    0.383838    2.308642   29.699118    0.523008   \n",
       "std     257.353842    0.486592    0.836071   14.526497    1.102743   \n",
       "min       1.000000    0.000000    1.000000    0.420000    0.000000   \n",
       "25%     223.500000    0.000000    2.000000   20.125000    0.000000   \n",
       "50%     446.000000    0.000000    3.000000   28.000000    0.000000   \n",
       "75%     668.500000    1.000000    3.000000   38.000000    1.000000   \n",
       "max     891.000000    1.000000    3.000000   80.000000    8.000000   \n",
       "\n",
       "            Parch        Fare  \n",
       "count  891.000000  891.000000  \n",
       "mean     0.381594   32.204208  \n",
       "std      0.806057   49.693429  \n",
       "min      0.000000    0.000000  \n",
       "25%      0.000000    7.910400  \n",
       "50%      0.000000   14.454200  \n",
       "75%      0.000000   31.000000  \n",
       "max      6.000000  512.329200  "
      ]
     },
     "execution_count": 48,
     "metadata": {},
     "output_type": "execute_result"
    }
   ],
   "source": [
    "df.describe()"
   ]
  },
  {
   "cell_type": "code",
   "execution_count": 49,
   "metadata": {
    "collapsed": false
   },
   "outputs": [
    {
     "data": {
      "text/plain": [
       "0    22\n",
       "1    38\n",
       "2    26\n",
       "3    35\n",
       "4    35\n",
       "5   NaN\n",
       "6    54\n",
       "7     2\n",
       "8    27\n",
       "9    14\n",
       "Name: Age, dtype: float64"
      ]
     },
     "execution_count": 49,
     "metadata": {},
     "output_type": "execute_result"
    }
   ],
   "source": [
    "df['Age'][0:10]"
   ]
  },
  {
   "cell_type": "code",
   "execution_count": 50,
   "metadata": {
    "collapsed": false
   },
   "outputs": [
    {
     "data": {
      "text/plain": [
       "0    22\n",
       "1    38\n",
       "2    26\n",
       "3    35\n",
       "4    35\n",
       "5   NaN\n",
       "6    54\n",
       "7     2\n",
       "8    27\n",
       "9    14\n",
       "Name: Age, dtype: float64"
      ]
     },
     "execution_count": 50,
     "metadata": {},
     "output_type": "execute_result"
    }
   ],
   "source": [
    "df.Age[0:10]"
   ]
  },
  {
   "cell_type": "code",
   "execution_count": 51,
   "metadata": {
    "collapsed": false
   },
   "outputs": [
    {
     "data": {
      "text/plain": [
       "pandas.core.series.Series"
      ]
     },
     "execution_count": 51,
     "metadata": {},
     "output_type": "execute_result"
    }
   ],
   "source": [
    "type(df.Age)"
   ]
  },
  {
   "cell_type": "code",
   "execution_count": 52,
   "metadata": {
    "collapsed": false
   },
   "outputs": [
    {
     "data": {
      "text/plain": [
       "29.69911764705882"
      ]
     },
     "execution_count": 52,
     "metadata": {},
     "output_type": "execute_result"
    }
   ],
   "source": [
    "df.Age.mean()"
   ]
  },
  {
   "cell_type": "code",
   "execution_count": 53,
   "metadata": {
    "collapsed": false
   },
   "outputs": [
    {
     "data": {
      "text/plain": [
       "28.0"
      ]
     },
     "execution_count": 53,
     "metadata": {},
     "output_type": "execute_result"
    }
   ],
   "source": [
    "df.Age.median()"
   ]
  },
  {
   "cell_type": "code",
   "execution_count": 54,
   "metadata": {
    "collapsed": false
   },
   "outputs": [
    {
     "data": {
      "text/html": [
       "<div style=\"max-height:1000px;max-width:1500px;overflow:auto;\">\n",
       "<table border=\"1\" class=\"dataframe\">\n",
       "  <thead>\n",
       "    <tr style=\"text-align: right;\">\n",
       "      <th></th>\n",
       "      <th>Sex</th>\n",
       "      <th>Age</th>\n",
       "    </tr>\n",
       "  </thead>\n",
       "  <tbody>\n",
       "    <tr>\n",
       "      <th>0</th>\n",
       "      <td>   male</td>\n",
       "      <td> 22</td>\n",
       "    </tr>\n",
       "    <tr>\n",
       "      <th>1</th>\n",
       "      <td> female</td>\n",
       "      <td> 38</td>\n",
       "    </tr>\n",
       "    <tr>\n",
       "      <th>2</th>\n",
       "      <td> female</td>\n",
       "      <td> 26</td>\n",
       "    </tr>\n",
       "    <tr>\n",
       "      <th>3</th>\n",
       "      <td> female</td>\n",
       "      <td> 35</td>\n",
       "    </tr>\n",
       "    <tr>\n",
       "      <th>4</th>\n",
       "      <td>   male</td>\n",
       "      <td> 35</td>\n",
       "    </tr>\n",
       "  </tbody>\n",
       "</table>\n",
       "</div>"
      ],
      "text/plain": [
       "      Sex  Age\n",
       "0    male   22\n",
       "1  female   38\n",
       "2  female   26\n",
       "3  female   35\n",
       "4    male   35"
      ]
     },
     "execution_count": 54,
     "metadata": {},
     "output_type": "execute_result"
    }
   ],
   "source": [
    "df[['Sex','Age']].head()"
   ]
  },
  {
   "cell_type": "code",
   "execution_count": 55,
   "metadata": {
    "collapsed": false
   },
   "outputs": [
    {
     "data": {
      "text/html": [
       "<div style=\"max-height:1000px;max-width:1500px;overflow:auto;\">\n",
       "<table border=\"1\" class=\"dataframe\">\n",
       "  <thead>\n",
       "    <tr style=\"text-align: right;\">\n",
       "      <th></th>\n",
       "      <th>PassengerId</th>\n",
       "      <th>Survived</th>\n",
       "      <th>Pclass</th>\n",
       "      <th>Name</th>\n",
       "      <th>Sex</th>\n",
       "      <th>Age</th>\n",
       "      <th>SibSp</th>\n",
       "      <th>Parch</th>\n",
       "      <th>Ticket</th>\n",
       "      <th>Fare</th>\n",
       "      <th>Cabin</th>\n",
       "      <th>Embarked</th>\n",
       "    </tr>\n",
       "  </thead>\n",
       "  <tbody>\n",
       "    <tr>\n",
       "      <th>33 </th>\n",
       "      <td>  34</td>\n",
       "      <td> 0</td>\n",
       "      <td> 2</td>\n",
       "      <td>          Wheadon, Mr. Edward H</td>\n",
       "      <td> male</td>\n",
       "      <td> 66.0</td>\n",
       "      <td> 0</td>\n",
       "      <td> 0</td>\n",
       "      <td> C.A. 24579</td>\n",
       "      <td> 10.5000</td>\n",
       "      <td> NaN</td>\n",
       "      <td> S</td>\n",
       "    </tr>\n",
       "    <tr>\n",
       "      <th>54 </th>\n",
       "      <td>  55</td>\n",
       "      <td> 0</td>\n",
       "      <td> 1</td>\n",
       "      <td> Ostby, Mr. Engelhart Cornelius</td>\n",
       "      <td> male</td>\n",
       "      <td> 65.0</td>\n",
       "      <td> 0</td>\n",
       "      <td> 1</td>\n",
       "      <td>     113509</td>\n",
       "      <td> 61.9792</td>\n",
       "      <td> B30</td>\n",
       "      <td> C</td>\n",
       "    </tr>\n",
       "    <tr>\n",
       "      <th>96 </th>\n",
       "      <td>  97</td>\n",
       "      <td> 0</td>\n",
       "      <td> 1</td>\n",
       "      <td>      Goldschmidt, Mr. George B</td>\n",
       "      <td> male</td>\n",
       "      <td> 71.0</td>\n",
       "      <td> 0</td>\n",
       "      <td> 0</td>\n",
       "      <td>   PC 17754</td>\n",
       "      <td> 34.6542</td>\n",
       "      <td>  A5</td>\n",
       "      <td> C</td>\n",
       "    </tr>\n",
       "    <tr>\n",
       "      <th>116</th>\n",
       "      <td> 117</td>\n",
       "      <td> 0</td>\n",
       "      <td> 3</td>\n",
       "      <td>           Connors, Mr. Patrick</td>\n",
       "      <td> male</td>\n",
       "      <td> 70.5</td>\n",
       "      <td> 0</td>\n",
       "      <td> 0</td>\n",
       "      <td>     370369</td>\n",
       "      <td>  7.7500</td>\n",
       "      <td> NaN</td>\n",
       "      <td> Q</td>\n",
       "    </tr>\n",
       "    <tr>\n",
       "      <th>170</th>\n",
       "      <td> 171</td>\n",
       "      <td> 0</td>\n",
       "      <td> 1</td>\n",
       "      <td>      Van der hoef, Mr. Wyckoff</td>\n",
       "      <td> male</td>\n",
       "      <td> 61.0</td>\n",
       "      <td> 0</td>\n",
       "      <td> 0</td>\n",
       "      <td>     111240</td>\n",
       "      <td> 33.5000</td>\n",
       "      <td> B19</td>\n",
       "      <td> S</td>\n",
       "    </tr>\n",
       "  </tbody>\n",
       "</table>\n",
       "</div>"
      ],
      "text/plain": [
       "     PassengerId  Survived  Pclass                            Name   Sex  \\\n",
       "33            34         0       2           Wheadon, Mr. Edward H  male   \n",
       "54            55         0       1  Ostby, Mr. Engelhart Cornelius  male   \n",
       "96            97         0       1       Goldschmidt, Mr. George B  male   \n",
       "116          117         0       3            Connors, Mr. Patrick  male   \n",
       "170          171         0       1       Van der hoef, Mr. Wyckoff  male   \n",
       "\n",
       "      Age  SibSp  Parch      Ticket     Fare Cabin Embarked  \n",
       "33   66.0      0      0  C.A. 24579  10.5000   NaN        S  \n",
       "54   65.0      0      1      113509  61.9792   B30        C  \n",
       "96   71.0      0      0    PC 17754  34.6542    A5        C  \n",
       "116  70.5      0      0      370369   7.7500   NaN        Q  \n",
       "170  61.0      0      0      111240  33.5000   B19        S  "
      ]
     },
     "execution_count": 55,
     "metadata": {},
     "output_type": "execute_result"
    }
   ],
   "source": [
    "df[df.Age > 60].head()"
   ]
  },
  {
   "cell_type": "code",
   "execution_count": 56,
   "metadata": {
    "collapsed": false
   },
   "outputs": [
    {
     "data": {
      "text/html": [
       "<div style=\"max-height:1000px;max-width:1500px;overflow:auto;\">\n",
       "<table border=\"1\" class=\"dataframe\">\n",
       "  <thead>\n",
       "    <tr style=\"text-align: right;\">\n",
       "      <th></th>\n",
       "      <th>Sex</th>\n",
       "      <th>Age</th>\n",
       "    </tr>\n",
       "  </thead>\n",
       "  <tbody>\n",
       "    <tr>\n",
       "      <th>33 </th>\n",
       "      <td> male</td>\n",
       "      <td> 66.0</td>\n",
       "    </tr>\n",
       "    <tr>\n",
       "      <th>54 </th>\n",
       "      <td> male</td>\n",
       "      <td> 65.0</td>\n",
       "    </tr>\n",
       "    <tr>\n",
       "      <th>96 </th>\n",
       "      <td> male</td>\n",
       "      <td> 71.0</td>\n",
       "    </tr>\n",
       "    <tr>\n",
       "      <th>116</th>\n",
       "      <td> male</td>\n",
       "      <td> 70.5</td>\n",
       "    </tr>\n",
       "    <tr>\n",
       "      <th>170</th>\n",
       "      <td> male</td>\n",
       "      <td> 61.0</td>\n",
       "    </tr>\n",
       "  </tbody>\n",
       "</table>\n",
       "</div>"
      ],
      "text/plain": [
       "      Sex   Age\n",
       "33   male  66.0\n",
       "54   male  65.0\n",
       "96   male  71.0\n",
       "116  male  70.5\n",
       "170  male  61.0"
      ]
     },
     "execution_count": 56,
     "metadata": {},
     "output_type": "execute_result"
    }
   ],
   "source": [
    "df[df.Age > 60].head()[['Sex','Age']]"
   ]
  },
  {
   "cell_type": "code",
   "execution_count": 57,
   "metadata": {
    "collapsed": false
   },
   "outputs": [
    {
     "data": {
      "text/html": [
       "<div style=\"max-height:1000px;max-width:1500px;overflow:auto;\">\n",
       "<table border=\"1\" class=\"dataframe\">\n",
       "  <thead>\n",
       "    <tr style=\"text-align: right;\">\n",
       "      <th></th>\n",
       "      <th>PassengerId</th>\n",
       "      <th>Survived</th>\n",
       "      <th>Pclass</th>\n",
       "      <th>Name</th>\n",
       "      <th>Sex</th>\n",
       "      <th>Age</th>\n",
       "      <th>SibSp</th>\n",
       "      <th>Parch</th>\n",
       "      <th>Ticket</th>\n",
       "      <th>Fare</th>\n",
       "      <th>Cabin</th>\n",
       "      <th>Embarked</th>\n",
       "    </tr>\n",
       "  </thead>\n",
       "  <tbody>\n",
       "    <tr>\n",
       "      <th>5 </th>\n",
       "      <td>  6</td>\n",
       "      <td> 0</td>\n",
       "      <td> 3</td>\n",
       "      <td>              Moran, Mr. James</td>\n",
       "      <td>   male</td>\n",
       "      <td>NaN</td>\n",
       "      <td> 0</td>\n",
       "      <td> 0</td>\n",
       "      <td> 330877</td>\n",
       "      <td>  8.4583</td>\n",
       "      <td> NaN</td>\n",
       "      <td> Q</td>\n",
       "    </tr>\n",
       "    <tr>\n",
       "      <th>17</th>\n",
       "      <td> 18</td>\n",
       "      <td> 1</td>\n",
       "      <td> 2</td>\n",
       "      <td>  Williams, Mr. Charles Eugene</td>\n",
       "      <td>   male</td>\n",
       "      <td>NaN</td>\n",
       "      <td> 0</td>\n",
       "      <td> 0</td>\n",
       "      <td> 244373</td>\n",
       "      <td> 13.0000</td>\n",
       "      <td> NaN</td>\n",
       "      <td> S</td>\n",
       "    </tr>\n",
       "    <tr>\n",
       "      <th>19</th>\n",
       "      <td> 20</td>\n",
       "      <td> 1</td>\n",
       "      <td> 3</td>\n",
       "      <td>       Masselmani, Mrs. Fatima</td>\n",
       "      <td> female</td>\n",
       "      <td>NaN</td>\n",
       "      <td> 0</td>\n",
       "      <td> 0</td>\n",
       "      <td>   2649</td>\n",
       "      <td>  7.2250</td>\n",
       "      <td> NaN</td>\n",
       "      <td> C</td>\n",
       "    </tr>\n",
       "    <tr>\n",
       "      <th>26</th>\n",
       "      <td> 27</td>\n",
       "      <td> 0</td>\n",
       "      <td> 3</td>\n",
       "      <td>       Emir, Mr. Farred Chehab</td>\n",
       "      <td>   male</td>\n",
       "      <td>NaN</td>\n",
       "      <td> 0</td>\n",
       "      <td> 0</td>\n",
       "      <td>   2631</td>\n",
       "      <td>  7.2250</td>\n",
       "      <td> NaN</td>\n",
       "      <td> C</td>\n",
       "    </tr>\n",
       "    <tr>\n",
       "      <th>28</th>\n",
       "      <td> 29</td>\n",
       "      <td> 1</td>\n",
       "      <td> 3</td>\n",
       "      <td> O'Dwyer, Miss. Ellen \"Nellie\"</td>\n",
       "      <td> female</td>\n",
       "      <td>NaN</td>\n",
       "      <td> 0</td>\n",
       "      <td> 0</td>\n",
       "      <td> 330959</td>\n",
       "      <td>  7.8792</td>\n",
       "      <td> NaN</td>\n",
       "      <td> Q</td>\n",
       "    </tr>\n",
       "  </tbody>\n",
       "</table>\n",
       "</div>"
      ],
      "text/plain": [
       "    PassengerId  Survived  Pclass                           Name     Sex  Age  \\\n",
       "5             6         0       3               Moran, Mr. James    male  NaN   \n",
       "17           18         1       2   Williams, Mr. Charles Eugene    male  NaN   \n",
       "19           20         1       3        Masselmani, Mrs. Fatima  female  NaN   \n",
       "26           27         0       3        Emir, Mr. Farred Chehab    male  NaN   \n",
       "28           29         1       3  O'Dwyer, Miss. Ellen \"Nellie\"  female  NaN   \n",
       "\n",
       "    SibSp  Parch  Ticket     Fare Cabin Embarked  \n",
       "5       0      0  330877   8.4583   NaN        Q  \n",
       "17      0      0  244373  13.0000   NaN        S  \n",
       "19      0      0    2649   7.2250   NaN        C  \n",
       "26      0      0    2631   7.2250   NaN        C  \n",
       "28      0      0  330959   7.8792   NaN        Q  "
      ]
     },
     "execution_count": 57,
     "metadata": {},
     "output_type": "execute_result"
    }
   ],
   "source": [
    "df[df.Age.isnull()].head()"
   ]
  },
  {
   "cell_type": "code",
   "execution_count": 58,
   "metadata": {
    "collapsed": false
   },
   "outputs": [
    {
     "name": "stdout",
     "output_type": "stream",
     "text": [
      "1 122\n",
      "2 108\n",
      "3 347\n"
     ]
    }
   ],
   "source": [
    "for i in range(1,4):\n",
    "    print(i, len(df[ (df.Pclass==i) & (df.Sex =='male') ]))"
   ]
  },
  {
   "cell_type": "code",
   "execution_count": 59,
   "metadata": {
    "collapsed": false
   },
   "outputs": [
    {
     "data": {
      "text/plain": [
       "<matplotlib.axes._subplots.AxesSubplot at 0x10a58b6d8>"
      ]
     },
     "execution_count": 59,
     "metadata": {},
     "output_type": "execute_result"
    },
    {
     "data": {
      "image/png": "[encoded data removed]",
      "text/plain": [
       "<matplotlib.figure.Figure at 0x10a97c630>"
      ]
     },
     "metadata": {},
     "output_type": "display_data"
    }
   ],
   "source": [
    "df.Age.hist()"
   ]
  },
  {
   "cell_type": "code",
   "execution_count": 60,
   "metadata": {
    "collapsed": false
   },
   "outputs": [
    {
     "data": {
      "text/plain": [
       "<matplotlib.axes._subplots.AxesSubplot at 0x10a58b588>"
      ]
     },
     "execution_count": 60,
     "metadata": {},
     "output_type": "execute_result"
    },
    {
     "data": {
      "image/png": "[encoded data removed]",
      "text/plain": [
       "<matplotlib.figure.Figure at 0x10ad864e0>"
      ]
     },
     "metadata": {},
     "output_type": "display_data"
    }
   ],
   "source": [
    "df.Age.hist(bins=16,range=(0,50),alpha=.5)"
   ]
  },
  {
   "cell_type": "markdown",
   "metadata": {},
   "source": [
    "###Feature Engineering"
   ]
  },
  {
   "cell_type": "code",
   "execution_count": 61,
   "metadata": {
    "collapsed": false
   },
   "outputs": [
    {
     "data": {
      "text/html": [
       "<div style=\"max-height:1000px;max-width:1500px;overflow:auto;\">\n",
       "<table border=\"1\" class=\"dataframe\">\n",
       "  <thead>\n",
       "    <tr style=\"text-align: right;\">\n",
       "      <th></th>\n",
       "      <th>PassengerId</th>\n",
       "      <th>Survived</th>\n",
       "      <th>Pclass</th>\n",
       "      <th>Name</th>\n",
       "      <th>Sex</th>\n",
       "      <th>Age</th>\n",
       "      <th>SibSp</th>\n",
       "      <th>Parch</th>\n",
       "      <th>Ticket</th>\n",
       "      <th>Fare</th>\n",
       "      <th>Cabin</th>\n",
       "      <th>Embarked</th>\n",
       "      <th>Gender</th>\n",
       "    </tr>\n",
       "  </thead>\n",
       "  <tbody>\n",
       "    <tr>\n",
       "      <th>0</th>\n",
       "      <td> 1</td>\n",
       "      <td> 0</td>\n",
       "      <td> 3</td>\n",
       "      <td>                           Braund, Mr. Owen Harris</td>\n",
       "      <td>   male</td>\n",
       "      <td> 22</td>\n",
       "      <td> 1</td>\n",
       "      <td> 0</td>\n",
       "      <td>        A/5 21171</td>\n",
       "      <td>  7.2500</td>\n",
       "      <td>  NaN</td>\n",
       "      <td> S</td>\n",
       "      <td> 4</td>\n",
       "    </tr>\n",
       "    <tr>\n",
       "      <th>1</th>\n",
       "      <td> 2</td>\n",
       "      <td> 1</td>\n",
       "      <td> 1</td>\n",
       "      <td> Cumings, Mrs. John Bradley (Florence Briggs Th...</td>\n",
       "      <td> female</td>\n",
       "      <td> 38</td>\n",
       "      <td> 1</td>\n",
       "      <td> 0</td>\n",
       "      <td>         PC 17599</td>\n",
       "      <td> 71.2833</td>\n",
       "      <td>  C85</td>\n",
       "      <td> C</td>\n",
       "      <td> 4</td>\n",
       "    </tr>\n",
       "    <tr>\n",
       "      <th>2</th>\n",
       "      <td> 3</td>\n",
       "      <td> 1</td>\n",
       "      <td> 3</td>\n",
       "      <td>                            Heikkinen, Miss. Laina</td>\n",
       "      <td> female</td>\n",
       "      <td> 26</td>\n",
       "      <td> 0</td>\n",
       "      <td> 0</td>\n",
       "      <td> STON/O2. 3101282</td>\n",
       "      <td>  7.9250</td>\n",
       "      <td>  NaN</td>\n",
       "      <td> S</td>\n",
       "      <td> 4</td>\n",
       "    </tr>\n",
       "    <tr>\n",
       "      <th>3</th>\n",
       "      <td> 4</td>\n",
       "      <td> 1</td>\n",
       "      <td> 1</td>\n",
       "      <td>      Futrelle, Mrs. Jacques Heath (Lily May Peel)</td>\n",
       "      <td> female</td>\n",
       "      <td> 35</td>\n",
       "      <td> 1</td>\n",
       "      <td> 0</td>\n",
       "      <td>           113803</td>\n",
       "      <td> 53.1000</td>\n",
       "      <td> C123</td>\n",
       "      <td> S</td>\n",
       "      <td> 4</td>\n",
       "    </tr>\n",
       "    <tr>\n",
       "      <th>4</th>\n",
       "      <td> 5</td>\n",
       "      <td> 0</td>\n",
       "      <td> 3</td>\n",
       "      <td>                          Allen, Mr. William Henry</td>\n",
       "      <td>   male</td>\n",
       "      <td> 35</td>\n",
       "      <td> 0</td>\n",
       "      <td> 0</td>\n",
       "      <td>           373450</td>\n",
       "      <td>  8.0500</td>\n",
       "      <td>  NaN</td>\n",
       "      <td> S</td>\n",
       "      <td> 4</td>\n",
       "    </tr>\n",
       "  </tbody>\n",
       "</table>\n",
       "</div>"
      ],
      "text/plain": [
       "   PassengerId  Survived  Pclass  \\\n",
       "0            1         0       3   \n",
       "1            2         1       1   \n",
       "2            3         1       3   \n",
       "3            4         1       1   \n",
       "4            5         0       3   \n",
       "\n",
       "                                                Name     Sex  Age  SibSp  \\\n",
       "0                            Braund, Mr. Owen Harris    male   22      1   \n",
       "1  Cumings, Mrs. John Bradley (Florence Briggs Th...  female   38      1   \n",
       "2                             Heikkinen, Miss. Laina  female   26      0   \n",
       "3       Futrelle, Mrs. Jacques Heath (Lily May Peel)  female   35      1   \n",
       "4                           Allen, Mr. William Henry    male   35      0   \n",
       "\n",
       "   Parch            Ticket     Fare Cabin Embarked  Gender  \n",
       "0      0         A/5 21171   7.2500   NaN        S       4  \n",
       "1      0          PC 17599  71.2833   C85        C       4  \n",
       "2      0  STON/O2. 3101282   7.9250   NaN        S       4  \n",
       "3      0            113803  53.1000  C123        S       4  \n",
       "4      0            373450   8.0500   NaN        S       4  "
      ]
     },
     "execution_count": 61,
     "metadata": {},
     "output_type": "execute_result"
    }
   ],
   "source": [
    "df['Gender'] = 4\n",
    "df.head()"
   ]
  },
  {
   "cell_type": "markdown",
   "metadata": {},
   "source": [
    "**lambda x** is an built-in function of python for generating an anonymous function in the moment, at runtime. Remember that x[0] of any string returns its first character."
   ]
  },
  {
   "cell_type": "code",
   "execution_count": 62,
   "metadata": {
    "collapsed": false
   },
   "outputs": [
    {
     "data": {
      "text/plain": [
       "0    M\n",
       "1    F\n",
       "2    F\n",
       "3    F\n",
       "4    M\n",
       "Name: Gender, dtype: object"
      ]
     },
     "execution_count": 62,
     "metadata": {},
     "output_type": "execute_result"
    }
   ],
   "source": [
    "df['Gender'] = df['Sex'].map( lambda x: x[0].upper() )\n",
    "df.Gender.head()"
   ]
  },
  {
   "cell_type": "code",
   "execution_count": 63,
   "metadata": {
    "collapsed": false
   },
   "outputs": [
    {
     "data": {
      "text/plain": [
       "0    1\n",
       "1    0\n",
       "2    0\n",
       "3    0\n",
       "4    1\n",
       "Name: Gender, dtype: int64"
      ]
     },
     "execution_count": 63,
     "metadata": {},
     "output_type": "execute_result"
    }
   ],
   "source": [
    "df['Gender'] = df['Sex'].map({'female':0,'male':1})#.astype(int)\n",
    "df.Gender.head()"
   ]
  },
  {
   "cell_type": "markdown",
   "metadata": {},
   "source": [
    "Now it's time to deal with the missing values of Age, because most machine learning will need a complete set of values in that column to use it.\n",
    "We know the average [known] age of all passengers is 29.6991176 -- we could fill in the null values with that. But maybe the median would be better? (to reduce the influence of a few rare 70- and 80-year olds?) The Age histogram did seem positively skewed. \n"
   ]
  },
  {
   "cell_type": "code",
   "execution_count": 64,
   "metadata": {
    "collapsed": true
   },
   "outputs": [],
   "source": [
    "# Median per gender per class\n",
    "median_ages = np.zeros([2,3])"
   ]
  },
  {
   "cell_type": "code",
   "execution_count": 65,
   "metadata": {
    "collapsed": false
   },
   "outputs": [
    {
     "data": {
      "text/plain": [
       "array([[ 35. ,  28. ,  21.5],\n",
       "       [ 40. ,  30. ,  25. ]])"
      ]
     },
     "execution_count": 65,
     "metadata": {},
     "output_type": "execute_result"
    }
   ],
   "source": [
    "for i in range(2):\n",
    "    for j in range(3):\n",
    "        median_ages[i,j] = df[ (df.Gender == i) & (df.Pclass == j+1) ]\\\n",
    "                            ['Age'].dropna().median()\n",
    "median_ages"
   ]
  },
  {
   "cell_type": "code",
   "execution_count": 66,
   "metadata": {
    "collapsed": false
   },
   "outputs": [
    {
     "data": {
      "text/html": [
       "<div style=\"max-height:1000px;max-width:1500px;overflow:auto;\">\n",
       "<table border=\"1\" class=\"dataframe\">\n",
       "  <thead>\n",
       "    <tr style=\"text-align: right;\">\n",
       "      <th></th>\n",
       "      <th>Gender</th>\n",
       "      <th>Pclass</th>\n",
       "      <th>Age</th>\n",
       "      <th>AgeFill</th>\n",
       "    </tr>\n",
       "  </thead>\n",
       "  <tbody>\n",
       "    <tr>\n",
       "      <th>5 </th>\n",
       "      <td> 1</td>\n",
       "      <td> 3</td>\n",
       "      <td>NaN</td>\n",
       "      <td>NaN</td>\n",
       "    </tr>\n",
       "    <tr>\n",
       "      <th>17</th>\n",
       "      <td> 1</td>\n",
       "      <td> 2</td>\n",
       "      <td>NaN</td>\n",
       "      <td>NaN</td>\n",
       "    </tr>\n",
       "    <tr>\n",
       "      <th>19</th>\n",
       "      <td> 0</td>\n",
       "      <td> 3</td>\n",
       "      <td>NaN</td>\n",
       "      <td>NaN</td>\n",
       "    </tr>\n",
       "    <tr>\n",
       "      <th>26</th>\n",
       "      <td> 1</td>\n",
       "      <td> 3</td>\n",
       "      <td>NaN</td>\n",
       "      <td>NaN</td>\n",
       "    </tr>\n",
       "    <tr>\n",
       "      <th>28</th>\n",
       "      <td> 0</td>\n",
       "      <td> 3</td>\n",
       "      <td>NaN</td>\n",
       "      <td>NaN</td>\n",
       "    </tr>\n",
       "    <tr>\n",
       "      <th>29</th>\n",
       "      <td> 1</td>\n",
       "      <td> 3</td>\n",
       "      <td>NaN</td>\n",
       "      <td>NaN</td>\n",
       "    </tr>\n",
       "    <tr>\n",
       "      <th>31</th>\n",
       "      <td> 0</td>\n",
       "      <td> 1</td>\n",
       "      <td>NaN</td>\n",
       "      <td>NaN</td>\n",
       "    </tr>\n",
       "    <tr>\n",
       "      <th>32</th>\n",
       "      <td> 0</td>\n",
       "      <td> 3</td>\n",
       "      <td>NaN</td>\n",
       "      <td>NaN</td>\n",
       "    </tr>\n",
       "    <tr>\n",
       "      <th>36</th>\n",
       "      <td> 1</td>\n",
       "      <td> 3</td>\n",
       "      <td>NaN</td>\n",
       "      <td>NaN</td>\n",
       "    </tr>\n",
       "    <tr>\n",
       "      <th>42</th>\n",
       "      <td> 1</td>\n",
       "      <td> 3</td>\n",
       "      <td>NaN</td>\n",
       "      <td>NaN</td>\n",
       "    </tr>\n",
       "  </tbody>\n",
       "</table>\n",
       "</div>"
      ],
      "text/plain": [
       "    Gender  Pclass  Age  AgeFill\n",
       "5        1       3  NaN      NaN\n",
       "17       1       2  NaN      NaN\n",
       "19       0       3  NaN      NaN\n",
       "26       1       3  NaN      NaN\n",
       "28       0       3  NaN      NaN\n",
       "29       1       3  NaN      NaN\n",
       "31       0       1  NaN      NaN\n",
       "32       0       3  NaN      NaN\n",
       "36       1       3  NaN      NaN\n",
       "42       1       3  NaN      NaN"
      ]
     },
     "execution_count": 66,
     "metadata": {},
     "output_type": "execute_result"
    }
   ],
   "source": [
    "df['AgeFill'] = df['Age']\n",
    "df[df['Age'].isnull()][['Gender','Pclass','Age','AgeFill']].head(10)"
   ]
  },
  {
   "cell_type": "code",
   "execution_count": 67,
   "metadata": {
    "collapsed": false
   },
   "outputs": [
    {
     "data": {
      "text/html": [
       "<div style=\"max-height:1000px;max-width:1500px;overflow:auto;\">\n",
       "<table border=\"1\" class=\"dataframe\">\n",
       "  <thead>\n",
       "    <tr style=\"text-align: right;\">\n",
       "      <th></th>\n",
       "      <th>Gender</th>\n",
       "      <th>Pclass</th>\n",
       "      <th>Age</th>\n",
       "      <th>AgeFill</th>\n",
       "    </tr>\n",
       "  </thead>\n",
       "  <tbody>\n",
       "    <tr>\n",
       "      <th>5 </th>\n",
       "      <td> 1</td>\n",
       "      <td> 3</td>\n",
       "      <td>NaN</td>\n",
       "      <td> 25.0</td>\n",
       "    </tr>\n",
       "    <tr>\n",
       "      <th>17</th>\n",
       "      <td> 1</td>\n",
       "      <td> 2</td>\n",
       "      <td>NaN</td>\n",
       "      <td> 30.0</td>\n",
       "    </tr>\n",
       "    <tr>\n",
       "      <th>19</th>\n",
       "      <td> 0</td>\n",
       "      <td> 3</td>\n",
       "      <td>NaN</td>\n",
       "      <td> 21.5</td>\n",
       "    </tr>\n",
       "    <tr>\n",
       "      <th>26</th>\n",
       "      <td> 1</td>\n",
       "      <td> 3</td>\n",
       "      <td>NaN</td>\n",
       "      <td> 25.0</td>\n",
       "    </tr>\n",
       "    <tr>\n",
       "      <th>28</th>\n",
       "      <td> 0</td>\n",
       "      <td> 3</td>\n",
       "      <td>NaN</td>\n",
       "      <td> 21.5</td>\n",
       "    </tr>\n",
       "    <tr>\n",
       "      <th>29</th>\n",
       "      <td> 1</td>\n",
       "      <td> 3</td>\n",
       "      <td>NaN</td>\n",
       "      <td> 25.0</td>\n",
       "    </tr>\n",
       "    <tr>\n",
       "      <th>31</th>\n",
       "      <td> 0</td>\n",
       "      <td> 1</td>\n",
       "      <td>NaN</td>\n",
       "      <td> 35.0</td>\n",
       "    </tr>\n",
       "    <tr>\n",
       "      <th>32</th>\n",
       "      <td> 0</td>\n",
       "      <td> 3</td>\n",
       "      <td>NaN</td>\n",
       "      <td> 21.5</td>\n",
       "    </tr>\n",
       "    <tr>\n",
       "      <th>36</th>\n",
       "      <td> 1</td>\n",
       "      <td> 3</td>\n",
       "      <td>NaN</td>\n",
       "      <td> 25.0</td>\n",
       "    </tr>\n",
       "    <tr>\n",
       "      <th>42</th>\n",
       "      <td> 1</td>\n",
       "      <td> 3</td>\n",
       "      <td>NaN</td>\n",
       "      <td> 25.0</td>\n",
       "    </tr>\n",
       "  </tbody>\n",
       "</table>\n",
       "</div>"
      ],
      "text/plain": [
       "    Gender  Pclass  Age  AgeFill\n",
       "5        1       3  NaN     25.0\n",
       "17       1       2  NaN     30.0\n",
       "19       0       3  NaN     21.5\n",
       "26       1       3  NaN     25.0\n",
       "28       0       3  NaN     21.5\n",
       "29       1       3  NaN     25.0\n",
       "31       0       1  NaN     35.0\n",
       "32       0       3  NaN     21.5\n",
       "36       1       3  NaN     25.0\n",
       "42       1       3  NaN     25.0"
      ]
     },
     "execution_count": 67,
     "metadata": {},
     "output_type": "execute_result"
    }
   ],
   "source": [
    "for g in range(2):\n",
    "    for c in range(3):\n",
    "        df.loc[ (df.Age.isnull()) & (df.Gender == g) & (df.Pclass == c+1),'AgeFill' ]\\\n",
    "            = median_ages[g,c]\n",
    "df[df.Age.isnull()][['Gender','Pclass','Age','AgeFill']].head(10)"
   ]
  },
  {
   "cell_type": "code",
   "execution_count": 68,
   "metadata": {
    "collapsed": false
   },
   "outputs": [
    {
     "data": {
      "text/html": [
       "<div style=\"max-height:1000px;max-width:1500px;overflow:auto;\">\n",
       "<table border=\"1\" class=\"dataframe\">\n",
       "  <thead>\n",
       "    <tr style=\"text-align: right;\">\n",
       "      <th></th>\n",
       "      <th>PassengerId</th>\n",
       "      <th>Survived</th>\n",
       "      <th>Pclass</th>\n",
       "      <th>Name</th>\n",
       "      <th>Sex</th>\n",
       "      <th>Age</th>\n",
       "      <th>SibSp</th>\n",
       "      <th>Parch</th>\n",
       "      <th>Ticket</th>\n",
       "      <th>Fare</th>\n",
       "      <th>Cabin</th>\n",
       "      <th>Embarked</th>\n",
       "      <th>Gender</th>\n",
       "      <th>AgeFill</th>\n",
       "    </tr>\n",
       "  </thead>\n",
       "  <tbody>\n",
       "  </tbody>\n",
       "</table>\n",
       "</div>"
      ],
      "text/plain": [
       "Empty DataFrame\n",
       "Columns: [PassengerId, Survived, Pclass, Name, Sex, Age, SibSp, Parch, Ticket, Fare, Cabin, Embarked, Gender, AgeFill]\n",
       "Index: []"
      ]
     },
     "execution_count": 68,
     "metadata": {},
     "output_type": "execute_result"
    }
   ],
   "source": [
    "df[df.AgeFill.isnull()]"
   ]
  },
  {
   "cell_type": "code",
   "execution_count": 69,
   "metadata": {
    "collapsed": true
   },
   "outputs": [],
   "source": [
    "df['AgeFill2'] = df['Age']"
   ]
  },
  {
   "cell_type": "code",
   "execution_count": 70,
   "metadata": {
    "collapsed": false,
    "scrolled": true
   },
   "outputs": [],
   "source": [
    "# Applying function for each row\n",
    "def filler(row):\n",
    "    row['AgeFill2'] = median_ages[row['Gender'],row['Pclass']-1]\n",
    "    return row\n",
    "# Replace rows with null values with modified rows. Note the LHS too.\n",
    "df[df.Age.isnull()] = df[df.Age.isnull()].apply(filler,axis=1)"
   ]
  },
  {
   "cell_type": "code",
   "execution_count": 71,
   "metadata": {
    "collapsed": false
   },
   "outputs": [
    {
     "data": {
      "text/html": [
       "<div style=\"max-height:1000px;max-width:1500px;overflow:auto;\">\n",
       "<table border=\"1\" class=\"dataframe\">\n",
       "  <thead>\n",
       "    <tr style=\"text-align: right;\">\n",
       "      <th></th>\n",
       "      <th>PassengerId</th>\n",
       "      <th>Survived</th>\n",
       "      <th>Pclass</th>\n",
       "      <th>Name</th>\n",
       "      <th>Sex</th>\n",
       "      <th>Age</th>\n",
       "      <th>SibSp</th>\n",
       "      <th>Parch</th>\n",
       "      <th>Ticket</th>\n",
       "      <th>Fare</th>\n",
       "      <th>Cabin</th>\n",
       "      <th>Embarked</th>\n",
       "      <th>Gender</th>\n",
       "      <th>AgeFill</th>\n",
       "      <th>AgeFill2</th>\n",
       "    </tr>\n",
       "  </thead>\n",
       "  <tbody>\n",
       "    <tr>\n",
       "      <th>5 </th>\n",
       "      <td>  6</td>\n",
       "      <td> 0</td>\n",
       "      <td> 3</td>\n",
       "      <td>             Moran, Mr. James</td>\n",
       "      <td> male</td>\n",
       "      <td>NaN</td>\n",
       "      <td> 0</td>\n",
       "      <td> 0</td>\n",
       "      <td> 330877</td>\n",
       "      <td>  8.4583</td>\n",
       "      <td> NaN</td>\n",
       "      <td> Q</td>\n",
       "      <td> 1</td>\n",
       "      <td> 25</td>\n",
       "      <td> 25</td>\n",
       "    </tr>\n",
       "    <tr>\n",
       "      <th>17</th>\n",
       "      <td> 18</td>\n",
       "      <td> 1</td>\n",
       "      <td> 2</td>\n",
       "      <td> Williams, Mr. Charles Eugene</td>\n",
       "      <td> male</td>\n",
       "      <td>NaN</td>\n",
       "      <td> 0</td>\n",
       "      <td> 0</td>\n",
       "      <td> 244373</td>\n",
       "      <td> 13.0000</td>\n",
       "      <td> NaN</td>\n",
       "      <td> S</td>\n",
       "      <td> 1</td>\n",
       "      <td> 30</td>\n",
       "      <td> 30</td>\n",
       "    </tr>\n",
       "  </tbody>\n",
       "</table>\n",
       "</div>"
      ],
      "text/plain": [
       "    PassengerId  Survived  Pclass                          Name   Sex  Age  \\\n",
       "5             6         0       3              Moran, Mr. James  male  NaN   \n",
       "17           18         1       2  Williams, Mr. Charles Eugene  male  NaN   \n",
       "\n",
       "    SibSp  Parch  Ticket     Fare Cabin Embarked  Gender  AgeFill  AgeFill2  \n",
       "5       0      0  330877   8.4583   NaN        Q       1       25        25  \n",
       "17      0      0  244373  13.0000   NaN        S       1       30        30  "
      ]
     },
     "execution_count": 71,
     "metadata": {},
     "output_type": "execute_result"
    }
   ],
   "source": [
    "df[df.Age.isnull()].head(2)"
   ]
  },
  {
   "cell_type": "code",
   "execution_count": 72,
   "metadata": {
    "collapsed": false
   },
   "outputs": [
    {
     "data": {
      "text/html": [
       "<div style=\"max-height:1000px;max-width:1500px;overflow:auto;\">\n",
       "<table border=\"1\" class=\"dataframe\">\n",
       "  <thead>\n",
       "    <tr style=\"text-align: right;\">\n",
       "      <th></th>\n",
       "      <th>PassengerId</th>\n",
       "      <th>Survived</th>\n",
       "      <th>Pclass</th>\n",
       "      <th>Name</th>\n",
       "      <th>Sex</th>\n",
       "      <th>Age</th>\n",
       "      <th>SibSp</th>\n",
       "      <th>Parch</th>\n",
       "      <th>Ticket</th>\n",
       "      <th>Fare</th>\n",
       "      <th>Cabin</th>\n",
       "      <th>Embarked</th>\n",
       "      <th>Gender</th>\n",
       "      <th>AgeFill</th>\n",
       "      <th>AgeFill2</th>\n",
       "    </tr>\n",
       "  </thead>\n",
       "  <tbody>\n",
       "  </tbody>\n",
       "</table>\n",
       "</div>"
      ],
      "text/plain": [
       "Empty DataFrame\n",
       "Columns: [PassengerId, Survived, Pclass, Name, Sex, Age, SibSp, Parch, Ticket, Fare, Cabin, Embarked, Gender, AgeFill, AgeFill2]\n",
       "Index: []"
      ]
     },
     "execution_count": 72,
     "metadata": {},
     "output_type": "execute_result"
    }
   ],
   "source": [
    "df[df['AgeFill'] != df['AgeFill2']]"
   ]
  },
  {
   "cell_type": "code",
   "execution_count": 73,
   "metadata": {
    "collapsed": false
   },
   "outputs": [
    {
     "data": {
      "text/plain": [
       "0    0\n",
       "1    0\n",
       "2    0\n",
       "3    0\n",
       "4    0\n",
       "5    1\n",
       "6    0\n",
       "7    0\n",
       "8    0\n",
       "9    0\n",
       "Name: AgeIsNull, dtype: int64"
      ]
     },
     "execution_count": 73,
     "metadata": {},
     "output_type": "execute_result"
    }
   ],
   "source": [
    "df['AgeIsNull'] = pd.isnull(df.Age).astype(int)\n",
    "df['AgeIsNull'].head(10)"
   ]
  },
  {
   "cell_type": "code",
   "execution_count": 74,
   "metadata": {
    "collapsed": true
   },
   "outputs": [],
   "source": [
    "df['FamilySize'] = df['Parch']+df['SibSp']"
   ]
  },
  {
   "cell_type": "markdown",
   "metadata": {},
   "source": [
    "we know Pclass had a large effect on survival, and it's possible Age will too. One artificial feature could incorporate whatever predictive power might be available from both Age and Pclass by multiplying them. This amplifies 3rd class (3 is a higher multiplier) at the same time it amplifies older ages. Both of these were less likely to survive, so in theory this could be useful."
   ]
  },
  {
   "cell_type": "code",
   "execution_count": 75,
   "metadata": {
    "collapsed": true
   },
   "outputs": [],
   "source": [
    "df['Age*Class'] = df.AgeFill*df.Pclass"
   ]
  },
  {
   "cell_type": "code",
   "execution_count": 76,
   "metadata": {
    "collapsed": false
   },
   "outputs": [
    {
     "data": {
      "text/plain": [
       "<matplotlib.axes._subplots.AxesSubplot at 0x10b0e4470>"
      ]
     },
     "execution_count": 76,
     "metadata": {},
     "output_type": "execute_result"
    },
    {
     "data": {
      "image/png": "[encoded data removed]",
      "text/plain": [
       "<matplotlib.figure.Figure at 0x10b09d0b8>"
      ]
     },
     "metadata": {},
     "output_type": "display_data"
    }
   ],
   "source": [
    "df['Age*Class'].hist()"
   ]
  },
  {
   "cell_type": "markdown",
   "metadata": {},
   "source": [
    "We know we'd like to have better predictive power for the men, so you might be wishing you could pull out more information from the Name column -- for example the honorary or pedestrian title of the men? We won't accomplish that in this tutorial, but you may find ideas in the Kaggle forums\n"
   ]
  },
  {
   "cell_type": "markdown",
   "metadata": {},
   "source": [
    "###Final Preparation\n",
    "\n",
    "sklearn package are not written to use a pandas dataframe. So the last two things we need to do are (1) determine what columns we have left which are not numeric, and (2) send our pandas.DataFrame back to a numpy.array."
   ]
  },
  {
   "cell_type": "code",
   "execution_count": 77,
   "metadata": {
    "collapsed": false
   },
   "outputs": [
    {
     "data": {
      "text/plain": [
       "Name        object\n",
       "Sex         object\n",
       "Ticket      object\n",
       "Cabin       object\n",
       "Embarked    object\n",
       "dtype: object"
      ]
     },
     "execution_count": 77,
     "metadata": {},
     "output_type": "execute_result"
    }
   ],
   "source": [
    "df.dtypes[df.dtypes.map(lambda x: x=='object')]"
   ]
  },
  {
   "cell_type": "code",
   "execution_count": 78,
   "metadata": {
    "collapsed": false
   },
   "outputs": [
    {
     "data": {
      "text/plain": [
       "array(['S', 'C', 'Q', nan], dtype=object)"
      ]
     },
     "execution_count": 78,
     "metadata": {},
     "output_type": "execute_result"
    }
   ],
   "source": [
    "df.Embarked.unique()"
   ]
  },
  {
   "cell_type": "code",
   "execution_count": null,
   "metadata": {
    "collapsed": false
   },
   "outputs": [],
   "source": [
    "# Most common embarkment point\n",
    "df.Embarked.dropna().mode().values"
   ]
  },
  {
   "cell_type": "code",
   "execution_count": 86,
   "metadata": {
    "collapsed": true
   },
   "outputs": [],
   "source": [
    "if len(df.Embarked[df.Embarked.isnull()]) > 0:\n",
    "    df.Embarked[df.Embarked.isnull()] = df.Embarked.dropna().mode().values"
   ]
  },
  {
   "cell_type": "code",
   "execution_count": 85,
   "metadata": {
    "collapsed": false
   },
   "outputs": [
    {
     "data": {
      "text/plain": [
       "['S', 'C', 'Q', nan]"
      ]
     },
     "execution_count": 85,
     "metadata": {},
     "output_type": "execute_result"
    }
   ],
   "source": [
    "list(df['Embarked'].unique())"
   ]
  },
  {
   "cell_type": "code",
   "execution_count": 87,
   "metadata": {
    "collapsed": false
   },
   "outputs": [
    {
     "data": {
      "text/plain": [
       "{nan: 3, 'S': 0, 'Q': 2, 'C': 1}"
      ]
     },
     "execution_count": 87,
     "metadata": {},
     "output_type": "execute_result"
    }
   ],
   "source": [
    "ports = list(enumerate(df['Embarked'].unique()))    # determine all values of Embarked,\n",
    "ports_dict = { name : i for i, name in ports }              # set up a dictionary in the form  Ports : index\n",
    "ports_dict"
   ]
  },
  {
   "cell_type": "code",
   "execution_count": 88,
   "metadata": {
    "collapsed": false
   },
   "outputs": [
    {
     "data": {
      "text/plain": [
       "61     3\n",
       "829    3\n",
       "Name: Embarked_var, dtype: int64"
      ]
     },
     "execution_count": 88,
     "metadata": {},
     "output_type": "execute_result"
    }
   ],
   "source": [
    "# df['Embarked_var']=df.Embarked.map({'S':0,'C':1,'Q':2})\n",
    "# OR\n",
    "df['Embarked_var']=df.Embarked.map( lambda x: ports_dict[x]).astype(int)\n",
    "df[df.Embarked.isnull()]['Embarked_var']"
   ]
  },
  {
   "cell_type": "code",
   "execution_count": 107,
   "metadata": {
    "collapsed": false
   },
   "outputs": [],
   "source": [
    "df = df.drop(['Name','Sex','Ticket','Cabin','Embarked','Age','AgeFill2','AgeIsNull','PassengerId'],axis=1)"
   ]
  },
  {
   "cell_type": "code",
   "execution_count": 108,
   "metadata": {
    "collapsed": false
   },
   "outputs": [
    {
     "data": {
      "text/html": [
       "<div style=\"max-height:1000px;max-width:1500px;overflow:auto;\">\n",
       "<table border=\"1\" class=\"dataframe\">\n",
       "  <thead>\n",
       "    <tr style=\"text-align: right;\">\n",
       "      <th></th>\n",
       "      <th>Survived</th>\n",
       "      <th>Pclass</th>\n",
       "      <th>SibSp</th>\n",
       "      <th>Parch</th>\n",
       "      <th>Fare</th>\n",
       "      <th>Gender</th>\n",
       "      <th>AgeFill</th>\n",
       "      <th>FamilySize</th>\n",
       "      <th>Age*Class</th>\n",
       "      <th>Embarked_var</th>\n",
       "    </tr>\n",
       "  </thead>\n",
       "  <tbody>\n",
       "    <tr>\n",
       "      <th>0</th>\n",
       "      <td> 0</td>\n",
       "      <td> 3</td>\n",
       "      <td> 1</td>\n",
       "      <td> 0</td>\n",
       "      <td>  7.2500</td>\n",
       "      <td> 1</td>\n",
       "      <td> 22</td>\n",
       "      <td> 1</td>\n",
       "      <td>  66</td>\n",
       "      <td> 0</td>\n",
       "    </tr>\n",
       "    <tr>\n",
       "      <th>1</th>\n",
       "      <td> 1</td>\n",
       "      <td> 1</td>\n",
       "      <td> 1</td>\n",
       "      <td> 0</td>\n",
       "      <td> 71.2833</td>\n",
       "      <td> 0</td>\n",
       "      <td> 38</td>\n",
       "      <td> 1</td>\n",
       "      <td>  38</td>\n",
       "      <td> 1</td>\n",
       "    </tr>\n",
       "    <tr>\n",
       "      <th>2</th>\n",
       "      <td> 1</td>\n",
       "      <td> 3</td>\n",
       "      <td> 0</td>\n",
       "      <td> 0</td>\n",
       "      <td>  7.9250</td>\n",
       "      <td> 0</td>\n",
       "      <td> 26</td>\n",
       "      <td> 0</td>\n",
       "      <td>  78</td>\n",
       "      <td> 0</td>\n",
       "    </tr>\n",
       "    <tr>\n",
       "      <th>3</th>\n",
       "      <td> 1</td>\n",
       "      <td> 1</td>\n",
       "      <td> 1</td>\n",
       "      <td> 0</td>\n",
       "      <td> 53.1000</td>\n",
       "      <td> 0</td>\n",
       "      <td> 35</td>\n",
       "      <td> 1</td>\n",
       "      <td>  35</td>\n",
       "      <td> 0</td>\n",
       "    </tr>\n",
       "    <tr>\n",
       "      <th>4</th>\n",
       "      <td> 0</td>\n",
       "      <td> 3</td>\n",
       "      <td> 0</td>\n",
       "      <td> 0</td>\n",
       "      <td>  8.0500</td>\n",
       "      <td> 1</td>\n",
       "      <td> 35</td>\n",
       "      <td> 0</td>\n",
       "      <td> 105</td>\n",
       "      <td> 0</td>\n",
       "    </tr>\n",
       "  </tbody>\n",
       "</table>\n",
       "</div>"
      ],
      "text/plain": [
       "   Survived  Pclass  SibSp  Parch     Fare  Gender  AgeFill  FamilySize  \\\n",
       "0         0       3      1      0   7.2500       1       22           1   \n",
       "1         1       1      1      0  71.2833       0       38           1   \n",
       "2         1       3      0      0   7.9250       0       26           0   \n",
       "3         1       1      1      0  53.1000       0       35           1   \n",
       "4         0       3      0      0   8.0500       1       35           0   \n",
       "\n",
       "   Age*Class  Embarked_var  \n",
       "0         66             0  \n",
       "1         38             1  \n",
       "2         78             0  \n",
       "3         35             0  \n",
       "4        105             0  "
      ]
     },
     "execution_count": 108,
     "metadata": {},
     "output_type": "execute_result"
    }
   ],
   "source": [
    "df.head()"
   ]
  },
  {
   "cell_type": "code",
   "execution_count": 91,
   "metadata": {
    "collapsed": true
   },
   "outputs": [],
   "source": [
    "#df = df.dropna()  #drop rows which have missing values"
   ]
  },
  {
   "cell_type": "code",
   "execution_count": 109,
   "metadata": {
    "collapsed": false,
    "scrolled": true
   },
   "outputs": [
    {
     "name": "stdout",
     "output_type": "stream",
     "text": [
      "[[  0.    3.    1.  ...,   1.   66.    0. ]\n",
      " [  1.    1.    1.  ...,   1.   38.    1. ]\n",
      " [  1.    3.    0.  ...,   0.   78.    0. ]\n",
      " ..., \n",
      " [  0.    3.    1.  ...,   3.   64.5   0. ]\n",
      " [  1.    1.    0.  ...,   0.   26.    1. ]\n",
      " [  0.    3.    0.  ...,   0.   96.    2. ]]\n",
      "(891, 10)\n"
     ]
    }
   ],
   "source": [
    "train_data = df.dropna().values\n",
    "print(train_data)\n",
    "print(train_data.shape)"
   ]
  },
  {
   "cell_type": "code",
   "execution_count": 110,
   "metadata": {
    "collapsed": false
   },
   "outputs": [],
   "source": [
    "#Importing test data\n",
    "test_df = pd.read_csv('test.csv',header=0)\n",
    "test_df['Gender'] = test_df['Sex'].map({'female':0,'male':1}).astype(int)\n",
    "if len(test_df.Embarked[ test_df.Embarked.isnull() ]) > 0:\n",
    "    test_df.Embarked[ test_df.Embarked.isnull() ] = test_df.Embarked.dropna().mode().values\n",
    "\n",
    "# missing embarked location is the most common embarked location\n",
    "test_df.Embarked = test_df.Embarked.map( lambda x: ports_dict[x]).astype(int)\n",
    "\n",
    "# missing age with median age\n",
    "median_age = test_df.Age.dropna().median()\n",
    "if len(test_df[test_df.Age.isnull()]) > 0:\n",
    "    test_df.loc[test_df.Age.isnull()] = median_age\n",
    "\n",
    "# missing fare values with median of that Pclass\n",
    "if len(test_df.Fare[ test_df.Fare.isnull() ]) > 0:\n",
    "    median_fare = np.zeros(3)\n",
    "    for f in range(0,3):                                              # loop 0 to 2\n",
    "        median_fare[f] = test_df[ test_df.Pclass == f+1 ]['Fare'].dropna().median()\n",
    "    for f in range(0,3):                                              # loop 0 to 2\n",
    "        test_df.loc[ (test_df.Fare.isnull()) & (test_df.Pclass == f+1 ), 'Fare'] = median_fare[f]\n",
    "\n",
    "# backup of passengerIds\n",
    "ids = test_df['PassengerId'].values\n",
    "\n",
    "test_df['AgeFill'] = test_df['Age']\n",
    "test_df['FamilySize'] = test_df['Parch']+test_df['SibSp']\n",
    "test_df['Age*Class'] = test_df['Age'] * test_df['Pclass']\n",
    "test_df['Embarked_var'] = test_df['Embarked']"
   ]
  },
  {
   "cell_type": "code",
   "execution_count": 111,
   "metadata": {
    "collapsed": false
   },
   "outputs": [],
   "source": [
    "test_df = test_df.drop(['Name','Sex','Age','Ticket','Cabin','Embarked','PassengerId'], axis=1)"
   ]
  },
  {
   "cell_type": "code",
   "execution_count": 112,
   "metadata": {
    "collapsed": false
   },
   "outputs": [
    {
     "data": {
      "text/html": [
       "<div style=\"max-height:1000px;max-width:1500px;overflow:auto;\">\n",
       "<table border=\"1\" class=\"dataframe\">\n",
       "  <thead>\n",
       "    <tr style=\"text-align: right;\">\n",
       "      <th></th>\n",
       "      <th>Pclass</th>\n",
       "      <th>SibSp</th>\n",
       "      <th>Parch</th>\n",
       "      <th>Fare</th>\n",
       "      <th>Gender</th>\n",
       "      <th>AgeFill</th>\n",
       "      <th>FamilySize</th>\n",
       "      <th>Age*Class</th>\n",
       "      <th>Embarked_var</th>\n",
       "    </tr>\n",
       "  </thead>\n",
       "  <tbody>\n",
       "    <tr>\n",
       "      <th>0</th>\n",
       "      <td> 3</td>\n",
       "      <td> 0</td>\n",
       "      <td> 0</td>\n",
       "      <td>  7.8292</td>\n",
       "      <td> 1</td>\n",
       "      <td> 34.5</td>\n",
       "      <td> 0</td>\n",
       "      <td> 103.5</td>\n",
       "      <td> 2</td>\n",
       "    </tr>\n",
       "    <tr>\n",
       "      <th>1</th>\n",
       "      <td> 3</td>\n",
       "      <td> 1</td>\n",
       "      <td> 0</td>\n",
       "      <td>  7.0000</td>\n",
       "      <td> 0</td>\n",
       "      <td> 47.0</td>\n",
       "      <td> 1</td>\n",
       "      <td> 141.0</td>\n",
       "      <td> 0</td>\n",
       "    </tr>\n",
       "    <tr>\n",
       "      <th>2</th>\n",
       "      <td> 2</td>\n",
       "      <td> 0</td>\n",
       "      <td> 0</td>\n",
       "      <td>  9.6875</td>\n",
       "      <td> 1</td>\n",
       "      <td> 62.0</td>\n",
       "      <td> 0</td>\n",
       "      <td> 124.0</td>\n",
       "      <td> 2</td>\n",
       "    </tr>\n",
       "    <tr>\n",
       "      <th>3</th>\n",
       "      <td> 3</td>\n",
       "      <td> 0</td>\n",
       "      <td> 0</td>\n",
       "      <td>  8.6625</td>\n",
       "      <td> 1</td>\n",
       "      <td> 27.0</td>\n",
       "      <td> 0</td>\n",
       "      <td>  81.0</td>\n",
       "      <td> 0</td>\n",
       "    </tr>\n",
       "    <tr>\n",
       "      <th>4</th>\n",
       "      <td> 3</td>\n",
       "      <td> 1</td>\n",
       "      <td> 1</td>\n",
       "      <td> 12.2875</td>\n",
       "      <td> 0</td>\n",
       "      <td> 22.0</td>\n",
       "      <td> 2</td>\n",
       "      <td>  66.0</td>\n",
       "      <td> 0</td>\n",
       "    </tr>\n",
       "  </tbody>\n",
       "</table>\n",
       "</div>"
      ],
      "text/plain": [
       "   Pclass  SibSp  Parch     Fare  Gender  AgeFill  FamilySize  Age*Class  \\\n",
       "0       3      0      0   7.8292       1     34.5           0      103.5   \n",
       "1       3      1      0   7.0000       0     47.0           1      141.0   \n",
       "2       2      0      0   9.6875       1     62.0           0      124.0   \n",
       "3       3      0      0   8.6625       1     27.0           0       81.0   \n",
       "4       3      1      1  12.2875       0     22.0           2       66.0   \n",
       "\n",
       "   Embarked_var  \n",
       "0             2  \n",
       "1             0  \n",
       "2             2  \n",
       "3             0  \n",
       "4             0  "
      ]
     },
     "execution_count": 112,
     "metadata": {},
     "output_type": "execute_result"
    }
   ],
   "source": [
    "test_df.head()"
   ]
  },
  {
   "cell_type": "code",
   "execution_count": 113,
   "metadata": {
    "collapsed": false
   },
   "outputs": [
    {
     "data": {
      "text/html": [
       "<div style=\"max-height:1000px;max-width:1500px;overflow:auto;\">\n",
       "<table border=\"1\" class=\"dataframe\">\n",
       "  <thead>\n",
       "    <tr style=\"text-align: right;\">\n",
       "      <th></th>\n",
       "      <th>Survived</th>\n",
       "      <th>Pclass</th>\n",
       "      <th>SibSp</th>\n",
       "      <th>Parch</th>\n",
       "      <th>Fare</th>\n",
       "      <th>Gender</th>\n",
       "      <th>AgeFill</th>\n",
       "      <th>FamilySize</th>\n",
       "      <th>Age*Class</th>\n",
       "      <th>Embarked_var</th>\n",
       "    </tr>\n",
       "  </thead>\n",
       "  <tbody>\n",
       "    <tr>\n",
       "      <th>0</th>\n",
       "      <td> 0</td>\n",
       "      <td> 3</td>\n",
       "      <td> 1</td>\n",
       "      <td> 0</td>\n",
       "      <td>  7.2500</td>\n",
       "      <td> 1</td>\n",
       "      <td> 22</td>\n",
       "      <td> 1</td>\n",
       "      <td>  66</td>\n",
       "      <td> 0</td>\n",
       "    </tr>\n",
       "    <tr>\n",
       "      <th>1</th>\n",
       "      <td> 1</td>\n",
       "      <td> 1</td>\n",
       "      <td> 1</td>\n",
       "      <td> 0</td>\n",
       "      <td> 71.2833</td>\n",
       "      <td> 0</td>\n",
       "      <td> 38</td>\n",
       "      <td> 1</td>\n",
       "      <td>  38</td>\n",
       "      <td> 1</td>\n",
       "    </tr>\n",
       "    <tr>\n",
       "      <th>2</th>\n",
       "      <td> 1</td>\n",
       "      <td> 3</td>\n",
       "      <td> 0</td>\n",
       "      <td> 0</td>\n",
       "      <td>  7.9250</td>\n",
       "      <td> 0</td>\n",
       "      <td> 26</td>\n",
       "      <td> 0</td>\n",
       "      <td>  78</td>\n",
       "      <td> 0</td>\n",
       "    </tr>\n",
       "    <tr>\n",
       "      <th>3</th>\n",
       "      <td> 1</td>\n",
       "      <td> 1</td>\n",
       "      <td> 1</td>\n",
       "      <td> 0</td>\n",
       "      <td> 53.1000</td>\n",
       "      <td> 0</td>\n",
       "      <td> 35</td>\n",
       "      <td> 1</td>\n",
       "      <td>  35</td>\n",
       "      <td> 0</td>\n",
       "    </tr>\n",
       "    <tr>\n",
       "      <th>4</th>\n",
       "      <td> 0</td>\n",
       "      <td> 3</td>\n",
       "      <td> 0</td>\n",
       "      <td> 0</td>\n",
       "      <td>  8.0500</td>\n",
       "      <td> 1</td>\n",
       "      <td> 35</td>\n",
       "      <td> 0</td>\n",
       "      <td> 105</td>\n",
       "      <td> 0</td>\n",
       "    </tr>\n",
       "  </tbody>\n",
       "</table>\n",
       "</div>"
      ],
      "text/plain": [
       "   Survived  Pclass  SibSp  Parch     Fare  Gender  AgeFill  FamilySize  \\\n",
       "0         0       3      1      0   7.2500       1       22           1   \n",
       "1         1       1      1      0  71.2833       0       38           1   \n",
       "2         1       3      0      0   7.9250       0       26           0   \n",
       "3         1       1      1      0  53.1000       0       35           1   \n",
       "4         0       3      0      0   8.0500       1       35           0   \n",
       "\n",
       "   Age*Class  Embarked_var  \n",
       "0         66             0  \n",
       "1         38             1  \n",
       "2         78             0  \n",
       "3         35             0  \n",
       "4        105             0  "
      ]
     },
     "execution_count": 113,
     "metadata": {},
     "output_type": "execute_result"
    }
   ],
   "source": [
    "df.head()"
   ]
  },
  {
   "cell_type": "code",
   "execution_count": 117,
   "metadata": {
    "collapsed": false
   },
   "outputs": [
    {
     "data": {
      "text/plain": [
       "(418, 9)"
      ]
     },
     "execution_count": 117,
     "metadata": {},
     "output_type": "execute_result"
    }
   ],
   "source": [
    "test_data = test_df.values\n",
    "test_data.shape"
   ]
  },
  {
   "cell_type": "markdown",
   "metadata": {},
   "source": [
    "###Random Forests\n",
    "\n",
    "random forest™ (or, an ensemble of decision trees).\n",
    "\n",
    "the port of embarkment, which has three categories, can be converted to a 0, 1 or 2 (Cherbourg, Southamption and Queenstown). This may seem like a non-sensical way of classifying, since Queenstown is not twice the value of Southampton-- but random forests are somewhat robust when the number of different attributes are not too numerous."
   ]
  },
  {
   "cell_type": "code",
   "execution_count": 118,
   "metadata": {
    "collapsed": false
   },
   "outputs": [],
   "source": [
    "from sklearn.ensemble import RandomForestClassifier\n",
    "\n",
    "forest = RandomForestClassifier(n_estimators = 100)\n",
    "forest = forest.fit(train_data[:,1:],train_data[:,0])\n",
    "output = forest.predict(test_data)"
   ]
  },
  {
   "cell_type": "code",
   "execution_count": 119,
   "metadata": {
    "collapsed": false
   },
   "outputs": [
    {
     "data": {
      "text/plain": [
       "(418,)"
      ]
     },
     "execution_count": 119,
     "metadata": {},
     "output_type": "execute_result"
    }
   ],
   "source": [
    "output.shape"
   ]
  },
  {
   "cell_type": "code",
   "execution_count": 132,
   "metadata": {
    "collapsed": false
   },
   "outputs": [
    {
     "data": {
      "text/plain": [
       "(836,)"
      ]
     },
     "execution_count": 132,
     "metadata": {},
     "output_type": "execute_result"
    }
   ],
   "source": [
    "np.concatenate([ids,output],axis=1).shape"
   ]
  },
  {
   "cell_type": "code",
   "execution_count": 131,
   "metadata": {
    "collapsed": false
   },
   "outputs": [
    {
     "data": {
      "text/plain": [
       "(418,)"
      ]
     },
     "execution_count": 131,
     "metadata": {},
     "output_type": "execute_result"
    }
   ],
   "source": [
    "ids.shape"
   ]
  },
  {
   "cell_type": "code",
   "execution_count": 134,
   "metadata": {
    "collapsed": false
   },
   "outputs": [
    {
     "data": {
      "text/plain": [
       "(5,)"
      ]
     },
     "execution_count": 134,
     "metadata": {},
     "output_type": "execute_result"
    }
   ],
   "source": [
    "a = np.array([1,2,3,4,5])\n",
    "a.shape"
   ]
  },
  {
   "cell_type": "code",
   "execution_count": 135,
   "metadata": {
    "collapsed": true
   },
   "outputs": [],
   "source": [
    "b = np.array([2,3,4,5,6])"
   ]
  },
  {
   "cell_type": "code",
   "execution_count": 142,
   "metadata": {
    "collapsed": false
   },
   "outputs": [
    {
     "data": {
      "text/plain": [
       "array([1, 2, 3, 4, 5, 2, 3, 4, 5, 6])"
      ]
     },
     "execution_count": 142,
     "metadata": {},
     "output_type": "execute_result"
    }
   ],
   "source": [
    "np.concatenate([a.T,b.T],axis=1)"
   ]
  },
  {
   "cell_type": "code",
   "execution_count": 145,
   "metadata": {
    "collapsed": false
   },
   "outputs": [
    {
     "data": {
      "text/plain": [
       "(5,)"
      ]
     },
     "execution_count": 145,
     "metadata": {},
     "output_type": "execute_result"
    }
   ],
   "source": [
    "a.T.shape"
   ]
  },
  {
   "cell_type": "code",
   "execution_count": 146,
   "metadata": {
    "collapsed": false
   },
   "outputs": [
    {
     "data": {
      "text/plain": [
       "array([[1, 2, 3, 4, 5]])"
      ]
     },
     "execution_count": 146,
     "metadata": {},
     "output_type": "execute_result"
    }
   ],
   "source": [
    "a.reshape(1,5)"
   ]
  },
  {
   "cell_type": "code",
   "execution_count": 156,
   "metadata": {
    "collapsed": false
   },
   "outputs": [
    {
     "data": {
      "text/plain": [
       "array([[1, 2, 3, 4, 5]])"
      ]
     },
     "execution_count": 156,
     "metadata": {},
     "output_type": "execute_result"
    }
   ],
   "source": [
    "a.reshape(1,-1)"
   ]
  },
  {
   "cell_type": "code",
   "execution_count": 160,
   "metadata": {
    "collapsed": false
   },
   "outputs": [
    {
     "data": {
      "text/plain": [
       "array([[1, 2],\n",
       "       [2, 3],\n",
       "       [3, 4],\n",
       "       [4, 5],\n",
       "       [5, 6]])"
      ]
     },
     "execution_count": 160,
     "metadata": {},
     "output_type": "execute_result"
    }
   ],
   "source": [
    "np.concatenate([a.reshape(1,-1),b.reshape(1,-1)]).T"
   ]
  },
  {
   "cell_type": "code",
   "execution_count": 163,
   "metadata": {
    "collapsed": false
   },
   "outputs": [
    {
     "data": {
      "text/plain": [
       "array([[1, 2],\n",
       "       [2, 3],\n",
       "       [3, 4],\n",
       "       [4, 5],\n",
       "       [5, 6]])"
      ]
     },
     "execution_count": 163,
     "metadata": {},
     "output_type": "execute_result"
    }
   ],
   "source": [
    "np.concatenate([a[:,None],b[:,None]],axis=1)"
   ]
  },
  {
   "cell_type": "code",
   "execution_count": 164,
   "metadata": {
    "collapsed": false
   },
   "outputs": [
    {
     "data": {
      "text/plain": [
       "array([[1],\n",
       "       [2],\n",
       "       [3],\n",
       "       [4],\n",
       "       [5]])"
      ]
     },
     "execution_count": 164,
     "metadata": {},
     "output_type": "execute_result"
    }
   ],
   "source": [
    "a[:,None]"
   ]
  },
  {
   "cell_type": "code",
   "execution_count": 166,
   "metadata": {
    "collapsed": false
   },
   "outputs": [],
   "source": [
    "predn = np.concatenate([ids[:,None],output[:,None]],axis=1)"
   ]
  },
  {
   "cell_type": "code",
   "execution_count": 167,
   "metadata": {
    "collapsed": false
   },
   "outputs": [
    {
     "data": {
      "text/plain": [
       "(418, 2)"
      ]
     },
     "execution_count": 167,
     "metadata": {},
     "output_type": "execute_result"
    }
   ],
   "source": [
    "predn.shape"
   ]
  },
  {
   "cell_type": "code",
   "execution_count": 169,
   "metadata": {
    "collapsed": false
   },
   "outputs": [
    {
     "data": {
      "text/plain": [
       "array([[892,   0],\n",
       "       [893,   0],\n",
       "       [894,   0],\n",
       "       [895,   1],\n",
       "       [896,   0]])"
      ]
     },
     "execution_count": 169,
     "metadata": {},
     "output_type": "execute_result"
    }
   ],
   "source": [
    "predn[0:5,:].astype(int)"
   ]
  },
  {
   "cell_type": "code",
   "execution_count": 189,
   "metadata": {
    "collapsed": false
   },
   "outputs": [
    {
     "data": {
      "text/plain": [
       "22"
      ]
     },
     "execution_count": 189,
     "metadata": {},
     "output_type": "execute_result"
    }
   ],
   "source": [
    "predn_file = open('myfirstforest.csv','w')\n",
    "predn_writer = csv.writer(predn_file)\n",
    "predn_writer.writerow(['PassengerId','Survived'])"
   ]
  },
  {
   "cell_type": "code",
   "execution_count": 174,
   "metadata": {
    "collapsed": false
   },
   "outputs": [
    {
     "name": "stdout",
     "output_type": "stream",
     "text": [
      "<zip object at 0x10cad99c8>\n"
     ]
    }
   ],
   "source": [
    "print(zip(ids,output))"
   ]
  },
  {
   "cell_type": "code",
   "execution_count": 190,
   "metadata": {
    "collapsed": true
   },
   "outputs": [],
   "source": [
    "predn_writer.writerows(predn.astype(int))\n",
    "predn_file.close()"
   ]
  },
  {
   "cell_type": "code",
   "execution_count": 177,
   "metadata": {
    "collapsed": false
   },
   "outputs": [
    {
     "data": {
      "text/plain": [
       "array([[  27,    0],\n",
       "       [1301,    1],\n",
       "       [  27,    0],\n",
       "       [1303,    1],\n",
       "       [1304,    0],\n",
       "       [  27,    0],\n",
       "       [1306,    1],\n",
       "       [1307,    0],\n",
       "       [  27,    0],\n",
       "       [  27,    0]])"
      ]
     },
     "execution_count": 177,
     "metadata": {},
     "output_type": "execute_result"
    }
   ],
   "source": [
    "predn[-10:].astype(int)"
   ]
  },
  {
   "cell_type": "code",
   "execution_count": 181,
   "metadata": {
    "collapsed": false
   },
   "outputs": [],
   "source": [
    "temp = pd.read_csv('test.csv',header=0,usecols=[0])\n",
    "a = temp.values"
   ]
  },
  {
   "cell_type": "code",
   "execution_count": 186,
   "metadata": {
    "collapsed": false
   },
   "outputs": [],
   "source": [
    "predn = np.concatenate([a,output[:,None]],axis=1)"
   ]
  },
  {
   "cell_type": "code",
   "execution_count": 188,
   "metadata": {
    "collapsed": false
   },
   "outputs": [
    {
     "data": {
      "text/plain": [
       "array([[ 892,    0],\n",
       "       [ 893,    0],\n",
       "       [ 894,    0],\n",
       "       [ 895,    1],\n",
       "       [ 896,    0],\n",
       "       [ 897,    0],\n",
       "       [ 898,    0],\n",
       "       [ 899,    0],\n",
       "       [ 900,    1],\n",
       "       [ 901,    0],\n",
       "       [ 902,    0],\n",
       "       [ 903,    0],\n",
       "       [ 904,    1],\n",
       "       [ 905,    0],\n",
       "       [ 906,    1],\n",
       "       [ 907,    1],\n",
       "       [ 908,    0],\n",
       "       [ 909,    1],\n",
       "       [ 910,    1],\n",
       "       [ 911,    0],\n",
       "       [ 912,    0],\n",
       "       [ 913,    1],\n",
       "       [ 914,    0],\n",
       "       [ 915,    1],\n",
       "       [ 916,    1],\n",
       "       [ 917,    0],\n",
       "       [ 918,    1],\n",
       "       [ 919,    1],\n",
       "       [ 920,    1],\n",
       "       [ 921,    0],\n",
       "       [ 922,    0],\n",
       "       [ 923,    0],\n",
       "       [ 924,    1],\n",
       "       [ 925,    0],\n",
       "       [ 926,    0],\n",
       "       [ 927,    0],\n",
       "       [ 928,    0],\n",
       "       [ 929,    0],\n",
       "       [ 930,    0],\n",
       "       [ 931,    0],\n",
       "       [ 932,    0],\n",
       "       [ 933,    0],\n",
       "       [ 934,    0],\n",
       "       [ 935,    1],\n",
       "       [ 936,    1],\n",
       "       [ 937,    0],\n",
       "       [ 938,    0],\n",
       "       [ 939,    0],\n",
       "       [ 940,    1],\n",
       "       [ 941,    1],\n",
       "       [ 942,    1],\n",
       "       [ 943,    0],\n",
       "       [ 944,    1],\n",
       "       [ 945,    1],\n",
       "       [ 946,    0],\n",
       "       [ 947,    0],\n",
       "       [ 948,    0],\n",
       "       [ 949,    0],\n",
       "       [ 950,    0],\n",
       "       [ 951,    1],\n",
       "       [ 952,    0],\n",
       "       [ 953,    0],\n",
       "       [ 954,    0],\n",
       "       [ 955,    1],\n",
       "       [ 956,    1],\n",
       "       [ 957,    0],\n",
       "       [ 958,    1],\n",
       "       [ 959,    0],\n",
       "       [ 960,    0],\n",
       "       [ 961,    1],\n",
       "       [ 962,    1],\n",
       "       [ 963,    0],\n",
       "       [ 964,    0],\n",
       "       [ 965,    1],\n",
       "       [ 966,    1],\n",
       "       [ 967,    1],\n",
       "       [ 968,    0],\n",
       "       [ 969,    1],\n",
       "       [ 970,    0],\n",
       "       [ 971,    1],\n",
       "       [ 972,    1],\n",
       "       [ 973,    0],\n",
       "       [ 974,    0],\n",
       "       [ 975,    0],\n",
       "       [ 976,    0],\n",
       "       [ 977,    0],\n",
       "       [ 978,    1],\n",
       "       [ 979,    0],\n",
       "       [ 980,    0],\n",
       "       [ 981,    1],\n",
       "       [ 982,    0],\n",
       "       [ 983,    0],\n",
       "       [ 984,    1],\n",
       "       [ 985,    0],\n",
       "       [ 986,    1],\n",
       "       [ 987,    0],\n",
       "       [ 988,    1],\n",
       "       [ 989,    0],\n",
       "       [ 990,    0],\n",
       "       [ 991,    0],\n",
       "       [ 992,    1],\n",
       "       [ 993,    0],\n",
       "       [ 994,    0],\n",
       "       [ 995,    0],\n",
       "       [ 996,    1],\n",
       "       [ 997,    0],\n",
       "       [ 998,    0],\n",
       "       [ 999,    0],\n",
       "       [1000,    0],\n",
       "       [1001,    0],\n",
       "       [1002,    0],\n",
       "       [1003,    0],\n",
       "       [1004,    1],\n",
       "       [1005,    0],\n",
       "       [1006,    1],\n",
       "       [1007,    0],\n",
       "       [1008,    0],\n",
       "       [1009,    1],\n",
       "       [1010,    0],\n",
       "       [1011,    1],\n",
       "       [1012,    1],\n",
       "       [1013,    0],\n",
       "       [1014,    1],\n",
       "       [1015,    0],\n",
       "       [1016,    0],\n",
       "       [1017,    0],\n",
       "       [1018,    0],\n",
       "       [1019,    0],\n",
       "       [1020,    0],\n",
       "       [1021,    0],\n",
       "       [1022,    1],\n",
       "       [1023,    0],\n",
       "       [1024,    0],\n",
       "       [1025,    0],\n",
       "       [1026,    0],\n",
       "       [1027,    0],\n",
       "       [1028,    0],\n",
       "       [1029,    0],\n",
       "       [1030,    0],\n",
       "       [1031,    0],\n",
       "       [1032,    0],\n",
       "       [1033,    1],\n",
       "       [1034,    0],\n",
       "       [1035,    0],\n",
       "       [1036,    1],\n",
       "       [1037,    0],\n",
       "       [1038,    0],\n",
       "       [1039,    0],\n",
       "       [1040,    0],\n",
       "       [1041,    0],\n",
       "       [1042,    1],\n",
       "       [1043,    0],\n",
       "       [1044,    0],\n",
       "       [1045,    1],\n",
       "       [1046,    0],\n",
       "       [1047,    0],\n",
       "       [1048,    1],\n",
       "       [1049,    1],\n",
       "       [1050,    1],\n",
       "       [1051,    1],\n",
       "       [1052,    0],\n",
       "       [1053,    1],\n",
       "       [1054,    1],\n",
       "       [1055,    0],\n",
       "       [1056,    0],\n",
       "       [1057,    1],\n",
       "       [1058,    1],\n",
       "       [1059,    0],\n",
       "       [1060,    0],\n",
       "       [1061,    0],\n",
       "       [1062,    0],\n",
       "       [1063,    0],\n",
       "       [1064,    0],\n",
       "       [1065,    0],\n",
       "       [1066,    0],\n",
       "       [1067,    1],\n",
       "       [1068,    1],\n",
       "       [1069,    0],\n",
       "       [1070,    1],\n",
       "       [1071,    1],\n",
       "       [1072,    0],\n",
       "       [1073,    0],\n",
       "       [1074,    1],\n",
       "       [1075,    0],\n",
       "       [1076,    1],\n",
       "       [1077,    0],\n",
       "       [1078,    1],\n",
       "       [1079,    0],\n",
       "       [1080,    0],\n",
       "       [1081,    0],\n",
       "       [1082,    0],\n",
       "       [1083,    0],\n",
       "       [1084,    1],\n",
       "       [1085,    0],\n",
       "       [1086,    1],\n",
       "       [1087,    0],\n",
       "       [1088,    1],\n",
       "       [1089,    0],\n",
       "       [1090,    0],\n",
       "       [1091,    0],\n",
       "       [1092,    0],\n",
       "       [1093,    1],\n",
       "       [1094,    0],\n",
       "       [1095,    1],\n",
       "       [1096,    0],\n",
       "       [1097,    0],\n",
       "       [1098,    0],\n",
       "       [1099,    0],\n",
       "       [1100,    1],\n",
       "       [1101,    0],\n",
       "       [1102,    0],\n",
       "       [1103,    0],\n",
       "       [1104,    0],\n",
       "       [1105,    0],\n",
       "       [1106,    0],\n",
       "       [1107,    0],\n",
       "       [1108,    0],\n",
       "       [1109,    0],\n",
       "       [1110,    1],\n",
       "       [1111,    0],\n",
       "       [1112,    1],\n",
       "       [1113,    0],\n",
       "       [1114,    1],\n",
       "       [1115,    1],\n",
       "       [1116,    1],\n",
       "       [1117,    0],\n",
       "       [1118,    0],\n",
       "       [1119,    0],\n",
       "       [1120,    0],\n",
       "       [1121,    0],\n",
       "       [1122,    0],\n",
       "       [1123,    1],\n",
       "       [1124,    0],\n",
       "       [1125,    0],\n",
       "       [1126,    0],\n",
       "       [1127,    0],\n",
       "       [1128,    0],\n",
       "       [1129,    1],\n",
       "       [1130,    1],\n",
       "       [1131,    1],\n",
       "       [1132,    1],\n",
       "       [1133,    1],\n",
       "       [1134,    0],\n",
       "       [1135,    0],\n",
       "       [1136,    0],\n",
       "       [1137,    0],\n",
       "       [1138,    1],\n",
       "       [1139,    0],\n",
       "       [1140,    1],\n",
       "       [1141,    0],\n",
       "       [1142,    1],\n",
       "       [1143,    0],\n",
       "       [1144,    1],\n",
       "       [1145,    0],\n",
       "       [1146,    0],\n",
       "       [1147,    0],\n",
       "       [1148,    0],\n",
       "       [1149,    0],\n",
       "       [1150,    1],\n",
       "       [1151,    0],\n",
       "       [1152,    0],\n",
       "       [1153,    0],\n",
       "       [1154,    1],\n",
       "       [1155,    1],\n",
       "       [1156,    1],\n",
       "       [1157,    0],\n",
       "       [1158,    0],\n",
       "       [1159,    0],\n",
       "       [1160,    0],\n",
       "       [1161,    0],\n",
       "       [1162,    0],\n",
       "       [1163,    0],\n",
       "       [1164,    1],\n",
       "       [1165,    0],\n",
       "       [1166,    0],\n",
       "       [1167,    1],\n",
       "       [1168,    0],\n",
       "       [1169,    0],\n",
       "       [1170,    0],\n",
       "       [1171,    0],\n",
       "       [1172,    0],\n",
       "       [1173,    1],\n",
       "       [1174,    0],\n",
       "       [1175,    0],\n",
       "       [1176,    1],\n",
       "       [1177,    0],\n",
       "       [1178,    0],\n",
       "       [1179,    0],\n",
       "       [1180,    0],\n",
       "       [1181,    0],\n",
       "       [1182,    0],\n",
       "       [1183,    0],\n",
       "       [1184,    0],\n",
       "       [1185,    0],\n",
       "       [1186,    0],\n",
       "       [1187,    0],\n",
       "       [1188,    1],\n",
       "       [1189,    0],\n",
       "       [1190,    0],\n",
       "       [1191,    0],\n",
       "       [1192,    0],\n",
       "       [1193,    0],\n",
       "       [1194,    0],\n",
       "       [1195,    0],\n",
       "       [1196,    0],\n",
       "       [1197,    1],\n",
       "       [1198,    1],\n",
       "       [1199,    1],\n",
       "       [1200,    0],\n",
       "       [1201,    0],\n",
       "       [1202,    0],\n",
       "       [1203,    1],\n",
       "       [1204,    0],\n",
       "       [1205,    0],\n",
       "       [1206,    1],\n",
       "       [1207,    1],\n",
       "       [1208,    0],\n",
       "       [1209,    0],\n",
       "       [1210,    0],\n",
       "       [1211,    0],\n",
       "       [1212,    0],\n",
       "       [1213,    0],\n",
       "       [1214,    0],\n",
       "       [1215,    1],\n",
       "       [1216,    1],\n",
       "       [1217,    0],\n",
       "       [1218,    1],\n",
       "       [1219,    0],\n",
       "       [1220,    0],\n",
       "       [1221,    0],\n",
       "       [1222,    1],\n",
       "       [1223,    1],\n",
       "       [1224,    0],\n",
       "       [1225,    0],\n",
       "       [1226,    0],\n",
       "       [1227,    0],\n",
       "       [1228,    0],\n",
       "       [1229,    0],\n",
       "       [1230,    0],\n",
       "       [1231,    0],\n",
       "       [1232,    0],\n",
       "       [1233,    0],\n",
       "       [1234,    0],\n",
       "       [1235,    1],\n",
       "       [1236,    0],\n",
       "       [1237,    1],\n",
       "       [1238,    0],\n",
       "       [1239,    0],\n",
       "       [1240,    0],\n",
       "       [1241,    1],\n",
       "       [1242,    1],\n",
       "       [1243,    0],\n",
       "       [1244,    0],\n",
       "       [1245,    0],\n",
       "       [1246,    1],\n",
       "       [1247,    0],\n",
       "       [1248,    1],\n",
       "       [1249,    0],\n",
       "       [1250,    0],\n",
       "       [1251,    0],\n",
       "       [1252,    0],\n",
       "       [1253,    1],\n",
       "       [1254,    1],\n",
       "       [1255,    1],\n",
       "       [1256,    1],\n",
       "       [1257,    0],\n",
       "       [1258,    0],\n",
       "       [1259,    0],\n",
       "       [1260,    1],\n",
       "       [1261,    0],\n",
       "       [1262,    0],\n",
       "       [1263,    1],\n",
       "       [1264,    0],\n",
       "       [1265,    0],\n",
       "       [1266,    1],\n",
       "       [1267,    1],\n",
       "       [1268,    0],\n",
       "       [1269,    0],\n",
       "       [1270,    0],\n",
       "       [1271,    0],\n",
       "       [1272,    0],\n",
       "       [1273,    0],\n",
       "       [1274,    0],\n",
       "       [1275,    0],\n",
       "       [1276,    0],\n",
       "       [1277,    1],\n",
       "       [1278,    0],\n",
       "       [1279,    0],\n",
       "       [1280,    0],\n",
       "       [1281,    0],\n",
       "       [1282,    0],\n",
       "       [1283,    1],\n",
       "       [1284,    0],\n",
       "       [1285,    0],\n",
       "       [1286,    0],\n",
       "       [1287,    1],\n",
       "       [1288,    0],\n",
       "       [1289,    1],\n",
       "       [1290,    0],\n",
       "       [1291,    0],\n",
       "       [1292,    1],\n",
       "       [1293,    0],\n",
       "       [1294,    1],\n",
       "       [1295,    0],\n",
       "       [1296,    0],\n",
       "       [1297,    0],\n",
       "       [1298,    0],\n",
       "       [1299,    0],\n",
       "       [1300,    0],\n",
       "       [1301,    1],\n",
       "       [1302,    0],\n",
       "       [1303,    1],\n",
       "       [1304,    0],\n",
       "       [1305,    0],\n",
       "       [1306,    1],\n",
       "       [1307,    0],\n",
       "       [1308,    0],\n",
       "       [1309,    0]])"
      ]
     },
     "execution_count": 188,
     "metadata": {},
     "output_type": "execute_result"
    }
   ],
   "source": [
    "predn.astype(int)"
   ]
  },
  {
   "cell_type": "markdown",
   "metadata": {},
   "source": [
    "\n",
    "A simple model is not always a bad model. Sometimes, concise, simple views of data reveal their true patterns and nature.\n",
    "\n",
    "This is not the final score for my new submission! I have not done as well on the public leaderboard, but who knows what the private score may hold? I made my previous model on the assumptions of the training data: we still don't know how these will hold up in the private leaderboard.\n",
    "\n",
    "Because the data set is very small, the differences in scores can be just one or two flips in decisions between survived or not survived. This means it will be very hard to determine the quality of the model from this data set. The aim of our Titanic \n",
    "\n",
    "- Revisit your assumptions about how you cleaned and filled the data.\n",
    "- Be creative with additional feature engineering, so that your chosen model has more columns to train from.\n",
    "- Use the sklearn documentation to experiment with different parameters for your random forest.\n",
    "- Consider a different model approach. For example, a logistic regression model is often used to predict binary outcomes like 0/1."
   ]
  },
  {
   "cell_type": "code",
   "execution_count": null,
   "metadata": {
    "collapsed": true
   },
   "outputs": [],
   "source": []
  }
 ],
 "metadata": {
  "kernelspec": {
   "display_name": "Python 3",
   "language": "python",
   "name": "python3"
  },
  "language_info": {
   "codemirror_mode": {
    "name": "ipython",
    "version": 3
   },
   "file_extension": ".py",
   "mimetype": "text/x-python",
   "name": "python",
   "nbconvert_exporter": "python",
   "pygments_lexer": "ipython3",
   "version": "3.4.3"
  }
 },
 "nbformat": 4,
 "nbformat_minor": 0
}
