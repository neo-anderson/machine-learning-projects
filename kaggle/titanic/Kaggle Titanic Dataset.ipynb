{
 "cells": [
  {
   "cell_type": "code",
   "execution_count": 6,
   "metadata": {
    "collapsed": false
   },
   "outputs": [],
   "source": [
    "%matplotlib inline\n",
    "import csv as csv\n",
    "import numpy as np\n",
    "\n",
    "csv_file = csv.reader(open('train.csv','r'))\n",
    "header = next(csv_file) # Skip first line\n",
    "data = []\n",
    "for row in csv_file:\n",
    "    data.append(row)\n",
    "data = np.array(data)"
   ]
  },
  {
   "cell_type": "code",
   "execution_count": 7,
   "metadata": {
    "collapsed": false
   },
   "outputs": [
    {
     "data": {
      "text/plain": [
       "array([['1', '0', '3', ..., '7.25', '', 'S'],\n",
       "       ['2', '1', '1', ..., '71.2833', 'C85', 'C'],\n",
       "       ['3', '1', '3', ..., '7.925', '', 'S'],\n",
       "       ..., \n",
       "       ['889', '0', '3', ..., '23.45', '', 'S'],\n",
       "       ['890', '1', '1', ..., '30', 'C148', 'C'],\n",
       "       ['891', '0', '3', ..., '7.75', '', 'Q']], \n",
       "      dtype='<U82')"
      ]
     },
     "execution_count": 7,
     "metadata": {},
     "output_type": "execute_result"
    }
   ],
   "source": [
    "data"
   ]
  },
  {
   "cell_type": "code",
   "execution_count": 8,
   "metadata": {
    "collapsed": false
   },
   "outputs": [
    {
     "data": {
      "text/plain": [
       "array(['1', '0', '3', 'Braund, Mr. Owen Harris', 'male', '22', '1', '0',\n",
       "       'A/5 21171', '7.25', '', 'S'], \n",
       "      dtype='<U82')"
      ]
     },
     "execution_count": 8,
     "metadata": {},
     "output_type": "execute_result"
    }
   ],
   "source": [
    "data[0]"
   ]
  },
  {
   "cell_type": "code",
   "execution_count": 9,
   "metadata": {
    "collapsed": false
   },
   "outputs": [
    {
     "data": {
      "text/plain": [
       "array(['891', '0', '3', 'Dooley, Mr. Patrick', 'male', '32', '0', '0',\n",
       "       '370376', '7.75', '', 'Q'], \n",
       "      dtype='<U82')"
      ]
     },
     "execution_count": 9,
     "metadata": {},
     "output_type": "execute_result"
    }
   ],
   "source": [
    "data[-1]"
   ]
  },
  {
   "cell_type": "code",
   "execution_count": 14,
   "metadata": {
    "collapsed": false
   },
   "outputs": [],
   "source": [
    "#data[0:,4] == data[0::,4]\n",
    "#data[0:,4] == data[:,4]"
   ]
  },
  {
   "cell_type": "code",
   "execution_count": 16,
   "metadata": {
    "collapsed": false
   },
   "outputs": [
    {
     "data": {
      "text/plain": [
       "0.38383838383838381"
      ]
     },
     "execution_count": 16,
     "metadata": {},
     "output_type": "execute_result"
    }
   ],
   "source": [
    "n_passengers = np.size(data[:,1])\n",
    "n_survived = np.sum(data[:,1].astype(np.float))\n",
    "propn_survivors = n_survived / n_passengers\n",
    "propn_survivors"
   ]
  },
  {
   "cell_type": "code",
   "execution_count": 20,
   "metadata": {
    "collapsed": false
   },
   "outputs": [],
   "source": [
    "women = data[:,4] == 'female'\n",
    "men = data[:,4] == 'male'\n",
    "rows_women = data[women,1].astype(np.int)\n",
    "rows_men = data[men,1].astype(np.int)\n",
    "\n",
    "propn_women_survived = np.sum(rows_women) / np.size(rows_women)\n",
    "propn_men_survived = np.sum(rows_men) / np.size(rows_men)"
   ]
  },
  {
   "cell_type": "code",
   "execution_count": 22,
   "metadata": {
    "collapsed": false
   },
   "outputs": [
    {
     "name": "stdout",
     "output_type": "stream",
     "text": [
      "0.188908145581\n",
      "0.742038216561\n"
     ]
    }
   ],
   "source": [
    "print(propn_men_survived)\n",
    "print(propn_women_survived)"
   ]
  },
  {
   "cell_type": "code",
   "execution_count": 35,
   "metadata": {
    "collapsed": true
   },
   "outputs": [],
   "source": [
    "test_file = open('test.csv')\n",
    "test_file_reader = csv.reader(test_file)\n",
    "header = next(test_file_reader)\n",
    "\n",
    "predn_file = open('genderbasedmodel.csv','w', encoding='UTF-8')\n",
    "predn_file_writer = csv.writer(predn_file)"
   ]
  },
  {
   "cell_type": "code",
   "execution_count": 36,
   "metadata": {
    "collapsed": false
   },
   "outputs": [
    {
     "name": "stdout",
     "output_type": "stream",
     "text": [
      "['PassengerId', 'Pclass', 'Name', 'Sex', 'Age', 'SibSp', 'Parch', 'Ticket', 'Fare', 'Cabin', 'Embarked']\n"
     ]
    }
   ],
   "source": [
    "print(header)\n",
    "predn_file_writer.writerow(['PassengerId','Survived'])\n",
    "for row in test_file_reader:\n",
    "    if row[3] == 'female':\n",
    "        predn_file_writer.writerow([row[0],1])\n",
    "    else:\n",
    "        predn_file_writer.writerow([row[0],0])\n",
    "\n",
    "test_file.close()\n",
    "predn_file.close()"
   ]
  },
  {
   "cell_type": "markdown",
   "metadata": {},
   "source": [
    "Now, let's try some more complicated conditions\n",
    "https://www.kaggle.com/c/titanic/details/getting-started-with-python"
   ]
  },
  {
   "cell_type": "code",
   "execution_count": 45,
   "metadata": {
    "collapsed": false,
    "scrolled": true
   },
   "outputs": [
    {
     "name": "stdout",
     "output_type": "stream",
     "text": [
      "['7.25' '71.2833' '7.925' '53.1' '8.05' '8.4583' '51.8625' '21.075'\n",
      " '11.1333' '30.0708']\n",
      "(  (7.186, 23.258]\n",
      " (55.275, 71.283]\n",
      "  (7.186, 23.258]\n",
      " (39.267, 55.275]\n",
      "  (7.186, 23.258]\n",
      "  (7.186, 23.258]\n",
      " (39.267, 55.275]\n",
      "  (7.186, 23.258]\n",
      "  (7.186, 23.258]\n",
      " (23.258, 39.267]\n",
      "Levels (4): Index(['(7.186, 23.258]', '(23.258, 39.267]',\n",
      "                   '(39.267, 55.275]', '(55.275, 71.283]'], dtype=object), array([  7.1859667,  23.258325 ,  39.26665  ,  55.274975 ,  71.2833   ]))\n"
     ]
    }
   ],
   "source": [
    "# Gender, class and ticket price. bin up ticket price into four bins\n",
    "import pandas as pd\n",
    "print(data[:10,-3])\n",
    "print(pd.cut(data[:10,-3].astype(np.float),4,retbins=True))"
   ]
  },
  {
   "cell_type": "code",
   "execution_count": 60,
   "metadata": {
    "collapsed": false
   },
   "outputs": [],
   "source": [
    "#binning\n",
    "fare_ceiling = 40\n",
    "data[ data[:,-3].astype(np.float) >= fare_ceiling, -3 ] = fare_ceiling - 1.0\n",
    "fare_bracket_size = 10\n",
    "n_brackets = int(fare_ceiling/fare_bracket_size)\n",
    "#n_classes = 3\n",
    "n_classes = len(np.unique(data[:,2]))"
   ]
  },
  {
   "cell_type": "code",
   "execution_count": 61,
   "metadata": {
    "collapsed": false
   },
   "outputs": [],
   "source": [
    "survival_table = np.zeros([2,n_classes,n_brackets])"
   ]
  },
  {
   "cell_type": "code",
   "execution_count": 66,
   "metadata": {
    "collapsed": false
   },
   "outputs": [
    {
     "name": "stderr",
     "output_type": "stream",
     "text": [
      "/Users/aswinrajkumar/anaconda/lib/python3.4/site-packages/numpy/core/_methods.py:59: RuntimeWarning: Mean of empty slice.\n",
      "  warnings.warn(\"Mean of empty slice.\", RuntimeWarning)\n"
     ]
    }
   ],
   "source": [
    "for i in range(n_classes):\n",
    "    for j in range(n_brackets):\n",
    "        w_stats = data[\n",
    "            (data[:,4] == 'female')\n",
    "            & (data[:,2].astype(np.float) == i+1)\n",
    "            & (data[:,-3].astype(np.float) >= j*fare_bracket_size)\n",
    "            & (data[:,-3].astype(np.float) < (j+1)*fare_bracket_size)\n",
    "            ,1]\n",
    "        m_stats = data[\n",
    "            (data[:,4] == 'male')\n",
    "            & (data[:,2].astype(np.float) == i+1)\n",
    "            & (data[:,-3].astype(np.float) >= j*fare_bracket_size)\n",
    "            & (data[:,-3].astype(np.float) < (j+1)*fare_bracket_size)\n",
    "            ,1]\n",
    "        survival_table[0,i,j] = np.mean(w_stats.astype(np.float))\n",
    "        survival_table[1,i,j] = np.mean(m_stats.astype(np.float))"
   ]
  },
  {
   "cell_type": "code",
   "execution_count": 67,
   "metadata": {
    "collapsed": false
   },
   "outputs": [
    {
     "data": {
      "text/plain": [
       "array([[        nan,         nan,  0.83333333,  0.97727273],\n",
       "       [        nan,  0.91428571,  0.9       ,  1.        ],\n",
       "       [ 0.59375   ,  0.58139535,  0.33333333,  0.125     ]])"
      ]
     },
     "execution_count": 67,
     "metadata": {},
     "output_type": "execute_result"
    }
   ],
   "source": [
    "survival_table[0]"
   ]
  },
  {
   "cell_type": "code",
   "execution_count": 69,
   "metadata": {
    "collapsed": false
   },
   "outputs": [
    {
     "data": {
      "text/plain": [
       "array([[ 0.        ,  0.        ,  0.83333333,  0.97727273],\n",
       "       [ 0.        ,  0.91428571,  0.9       ,  1.        ],\n",
       "       [ 0.59375   ,  0.58139535,  0.33333333,  0.125     ]])"
      ]
     },
     "execution_count": 69,
     "metadata": {},
     "output_type": "execute_result"
    }
   ],
   "source": [
    "# Fix NaN values by the below method\n",
    "survival_table[ survival_table != survival_table ] = 0.\n",
    "survival_table[0]"
   ]
  },
  {
   "cell_type": "code",
   "execution_count": 70,
   "metadata": {
    "collapsed": false
   },
   "outputs": [
    {
     "data": {
      "text/plain": [
       "array([[[ 0.,  0.,  1.,  1.],\n",
       "        [ 0.,  1.,  1.,  1.],\n",
       "        [ 1.,  1.,  0.,  0.]],\n",
       "\n",
       "       [[ 0.,  0.,  0.,  0.],\n",
       "        [ 0.,  0.,  0.,  0.],\n",
       "        [ 0.,  0.,  0.,  0.]]])"
      ]
     },
     "execution_count": 70,
     "metadata": {},
     "output_type": "execute_result"
    }
   ],
   "source": [
    "# create a model with a cut-off probability of 0.5\n",
    "survival_table[survival_table >= 0.5] = 1   #survive\n",
    "survival_table[survival_table < 0.5] = 0    #will die\n",
    "survival_table"
   ]
  },
  {
   "cell_type": "code",
   "execution_count": 72,
   "metadata": {
    "collapsed": false
   },
   "outputs": [
    {
     "data": {
      "text/plain": [
       "22"
      ]
     },
     "execution_count": 72,
     "metadata": {},
     "output_type": "execute_result"
    }
   ],
   "source": [
    "test_file = open('test.csv')\n",
    "test_file_reader = csv.reader(test_file)\n",
    "header = next(test_file_reader)\n",
    "predn_file = open('genderclassmodel.csv','w')\n",
    "predn_file_writer = csv.writer(predn_file)\n",
    "predn_file_writer.writerow(['PassengerId','Survived'])"
   ]
  },
  {
   "cell_type": "code",
   "execution_count": 73,
   "metadata": {
    "collapsed": true
   },
   "outputs": [],
   "source": [
    "for row in test_file_reader:\n",
    "    for j in range(n_brackets):\n",
    "        try:\n",
    "            row[8] = float(row[8])\n",
    "        except:\n",
    "            bin_fare = 3 - float(row[1])\n",
    "            break\n",
    "        if row[8] > fare_ceiling:\n",
    "            bin_fare = n_brackets - 1\n",
    "            break\n",
    "        if row[8] >= j*fare_bracket_size and row[8] < (j+1)*fare_bracket_size:\n",
    "            bin_fare = j\n",
    "            break\n",
    "    if row[3] == 'female':\n",
    "        predn_file_writer.writerow([row[0],int(survival_table[0,float(row[1])-1,bin_fare])])\n",
    "    else:\n",
    "        predn_file_writer.writerow([row[0],int(survival_table[1,float(row[1])-1,bin_fare])])\n",
    "test_file.close()\n",
    "predn_file.close()"
   ]
  },
  {
   "cell_type": "markdown",
   "metadata": {},
   "source": [
    "###Using Pandas\n",
    "https://www.kaggle.com/c/titanic/details/getting-started-with-python-ii"
   ]
  },
  {
   "cell_type": "code",
   "execution_count": null,
   "metadata": {
    "collapsed": true
   },
   "outputs": [],
   "source": []
  }
 ],
 "metadata": {
  "kernelspec": {
   "display_name": "Python 3",
   "language": "python",
   "name": "python3"
  },
  "language_info": {
   "codemirror_mode": {
    "name": "ipython",
    "version": 3
   },
   "file_extension": ".py",
   "mimetype": "text/x-python",
   "name": "python",
   "nbconvert_exporter": "python",
   "pygments_lexer": "ipython3",
   "version": "3.4.3"
  }
 },
 "nbformat": 4,
 "nbformat_minor": 0
}
