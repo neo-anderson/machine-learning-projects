{
 "cells": [
  {
   "cell_type": "code",
   "execution_count": 93,
   "metadata": {
    "collapsed": true
   },
   "outputs": [],
   "source": [
    "%matplotlib inline\n",
    "import numpy as np\n",
    "from sklearn import naive_bayes\n",
    "from sklearn.feature_extraction.text import CountVectorizer\n",
    "import os"
   ]
  },
  {
   "cell_type": "code",
   "execution_count": 30,
   "metadata": {
    "collapsed": false
   },
   "outputs": [
    {
     "name": "stdout",
     "output_type": "stream",
     "text": [
      "['train/', 'train/ham', 'train/spam']\n",
      "0\n"
     ]
    }
   ],
   "source": [
    "count = 0\n",
    "folders = [x[0] for x in os.walk('train/')]\n",
    "print(folders)\n",
    "print(count)"
   ]
  },
  {
   "cell_type": "code",
   "execution_count": 138,
   "metadata": {
    "collapsed": false
   },
   "outputs": [
    {
     "name": "stdout",
     "output_type": "stream",
     "text": [
      "reading files from train/ham\n",
      "340\n",
      "reading files from train/spam\n",
      "463\n",
      "(463, 10115)\n",
      "(463,)\n",
      "[0 0 0 0 0 0 0 0 0 0 0 1 0 0 0 0 0 0 0 0 0 0 0 0 0 0 0 0 0 0 0 0 0 0 0 0 0\n",
      " 0 1 0 0 0 0 0 0 0 1 0 0 0 2 0 0 0 0 0 0 0 0 0 0 0 3 0 0 0 0 0 0 0 0 0 0 0\n",
      " 0 0 0 0 0 0 0 0 0 0 0 0 0 0 0 0 0 0 0 1 0 0 0 0 0 0]\n"
     ]
    }
   ],
   "source": [
    "# removing stop words increases the test accuracy slightly\n",
    "cv = CountVectorizer(strip_accents='unicode',stop_words='english')\n",
    "\n",
    "def make_dataset(parent,type='train'):\n",
    "    folders = [f[0] for f in os.walk(parent)]\n",
    "    text_array = []\n",
    "    target = np.array([])\n",
    "    label = -1\n",
    "    for folder in folders[1:]:\n",
    "        label += 1\n",
    "        print('reading files from',folder)\n",
    "        for file in os.listdir(folder):\n",
    "            # only read txt files\n",
    "            if 'txt' not in file:\n",
    "                continue\n",
    "            #ignore encoding errors\n",
    "            text = open(folder+'/'+file, encoding='utf-8',errors='ignore').read()\n",
    "            text_array.append(text)\n",
    "        print(len(text_array))\n",
    "        label_array = np.zeros(len([fs for fs in os.listdir(folder) if 'txt' in fs]))\n",
    "        label_array.fill(label)\n",
    "        #print(label_array)\n",
    "        #print(label_array.shape)\n",
    "        target = np.append(target,label_array)\n",
    "    #print(target.shape)\n",
    "    data = np.asarray(text_array)\n",
    "    if type == 'train':\n",
    "        counts = cv.fit_transform(data)\n",
    "    else:\n",
    "        counts = cv.transform(data)\n",
    "    #print(counts.shape)\n",
    "    #print(cv.vocabulary_)\n",
    "    #print(target[339])\n",
    "    return counts.toarray(),target\n",
    "X,y = make_dataset('train')\n",
    "print(X.shape)\n",
    "print(y.shape)\n",
    "print(X[0,:100])"
   ]
  },
  {
   "cell_type": "code",
   "execution_count": 133,
   "metadata": {
    "collapsed": false
   },
   "outputs": [
    {
     "data": {
      "text/plain": [
       "(1, 10115)"
      ]
     },
     "execution_count": 133,
     "metadata": {},
     "output_type": "execute_result"
    }
   ],
   "source": [
    "c = cv.transform(['hey how are you?']).toarray()\n",
    "c.shape"
   ]
  },
  {
   "cell_type": "code",
   "execution_count": 134,
   "metadata": {
    "collapsed": false
   },
   "outputs": [
    {
     "data": {
      "text/plain": [
       "GaussianNB()"
      ]
     },
     "execution_count": 134,
     "metadata": {},
     "output_type": "execute_result"
    }
   ],
   "source": [
    "clf = naive_bayes.GaussianNB()\n",
    "clf.fit(X,y)"
   ]
  },
  {
   "cell_type": "code",
   "execution_count": 135,
   "metadata": {
    "collapsed": false
   },
   "outputs": [
    {
     "data": {
      "text/plain": [
       "array([ 0.])"
      ]
     },
     "execution_count": 135,
     "metadata": {},
     "output_type": "execute_result"
    }
   ],
   "source": [
    "clf.predict(c)"
   ]
  },
  {
   "cell_type": "code",
   "execution_count": 136,
   "metadata": {
    "collapsed": false
   },
   "outputs": [
    {
     "data": {
      "text/plain": [
       "array([ 1.])"
      ]
     },
     "execution_count": 136,
     "metadata": {},
     "output_type": "execute_result"
    }
   ],
   "source": [
    "spam = cv.transform(['free viagra now check this website']).toarray()\n",
    "clf.predict(spam)"
   ]
  },
  {
   "cell_type": "code",
   "execution_count": 137,
   "metadata": {
    "collapsed": false
   },
   "outputs": [
    {
     "name": "stdout",
     "output_type": "stream",
     "text": [
      "reading files from test/ham\n",
      "348\n",
      "reading files from test/spam\n",
      "478\n",
      "Prediction accuracy 91.8410041841%\n"
     ]
    }
   ],
   "source": [
    "data_test, target_test = make_dataset('test',type='test')\n",
    "target_predicted = clf.predict(data_test)\n",
    "print('Prediction accuracy',str(np.mean(target_predicted == target_test)*100)+'%')"
   ]
  },
  {
   "cell_type": "code",
   "execution_count": 43,
   "metadata": {
    "collapsed": false,
    "scrolled": true
   },
   "outputs": [
    {
     "data": {
      "text/plain": [
       "'Subject: we can\\ndate : september 21 , 2004 .\\nsir ,\\ndetails\\nduring the regime of president charles taylor in liberia , i was the special adviser to the president on minerals and allied matters . also , i was made the chairman of the presidential task force on sales and exportation of diamonds and other gem stones , which are the major mineral deposits in liberia .\\nthe above positions availed me the opportunity to divert some fund , which was deposited with a private security vault firm in europe . this i did due to the instability in liberia during the regime of charles taylor , in order to safeguard my future and the future of my entire family .\\nyou may be aware of the protracted war in liberia . the political uncertainty is very unfriendly . the government of charles taylor , under which i served , had been discredited by the western world , especially the united states who forcefully removed the president and his cabinet and sent them to exile . this is the reason why i am in asylum in the nigeria being a top member of charles taylor? ? ts cabinet .\\nthank god , the intention for which i diverted the fund was instantly justified at the inception of a new transition government . all the members of the former regime , including me , were put under probe . our assets were confiscated . all traceable bank accounts , both in liberia and overseas , were frozen , pending the findings of the probe committee or probable pardon by the new regime .\\nmy only fund that could not be traced is the fund i diverted to the private security vault company in netherlands . the deposit was made in the form of ? ?  concealed lodgment? ?  and the deposit manifest was made as diamonds and family treasures . the only person that is aware of this deposit is my personal lawyer , who i can trust , and you , who i have just told in utmost confidence . please , let it be so and may god help us .\\nthe amount in question is usd $ 15 million ( fifteen million dollars ) .\\nthis is the fund i want to invest , through an honest and trusted ally , in any good business in any country outside the continent of africa . this necessitated my search for a competent and reliable person who will oversee the investment on the basis of a joint venture partnership for our mutual benefit . my initial idea was to invest this fund in real estate . but your choice of any other business eitherin your country in any other country other than africa will be appreciated .\\nthe details of the partnership terms will be drafted by my lawyer on confirmation of your willingness to assist in this venture . also , a meeting could be arranged between you and my lawyer who is based here . this will enable us sign a memorandum of understanding before the fund will be transferred from the security vault company to your custody .\\ni look forward to your prompt response as i wish to move this fund out of the vault company due to high cost of deposit contract renewal .\\nregards .\\nplease replyonly through this email address : nathanielbarnes @ sify . com\\nyours truly , nathaniel barneswalla ! mail - get your free lg mail today \\x00'"
      ]
     },
     "execution_count": 43,
     "metadata": {},
     "output_type": "execute_result"
    }
   ],
   "source": [
    "file = open('train/spam/2248.2004-09-23.GP.spam.txt',errors='ignore')\n",
    "file.read()"
   ]
  }
 ],
 "metadata": {
  "kernelspec": {
   "display_name": "Python 3",
   "language": "python",
   "name": "python3"
  },
  "language_info": {
   "codemirror_mode": {
    "name": "ipython",
    "version": 3
   },
   "file_extension": ".py",
   "mimetype": "text/x-python",
   "name": "python",
   "nbconvert_exporter": "python",
   "pygments_lexer": "ipython3",
   "version": "3.4.3"
  }
 },
 "nbformat": 4,
 "nbformat_minor": 0
}
